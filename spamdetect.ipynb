{
 "cells": [
  {
   "cell_type": "code",
   "execution_count": 1,
   "id": "a4c3f18b",
   "metadata": {},
   "outputs": [],
   "source": [
    "import pandas as pd\n",
    "import numpy as np\n",
    "import matplotlib.pyplot as plt\n",
    "import seaborn as sns"
   ]
  },
  {
   "cell_type": "code",
   "execution_count": 2,
   "id": "1d0a0ae2",
   "metadata": {},
   "outputs": [],
   "source": [
    "import tensorflow as tf\n",
    "from tensorflow.keras.preprocessing.text import Tokenizer\n",
    "from tensorflow.keras.preprocessing.sequence import pad_sequences"
   ]
  },
  {
   "cell_type": "code",
   "execution_count": 3,
   "id": "b90bab3a",
   "metadata": {},
   "outputs": [],
   "source": [
    "from tensorflow.keras.callbacks import EarlyStopping\n",
    "from tensorflow.keras.models import Sequential\n",
    "from tensorflow.keras.layers import Embedding, GlobalAveragePooling1D, Dense, Dropout, LSTM, Bidirectional"
   ]
  },
  {
   "cell_type": "code",
   "execution_count": 4,
   "id": "61e1d270",
   "metadata": {},
   "outputs": [],
   "source": [
    "import re\n",
    "import nltk\n",
    "from nltk.corpus import stopwords\n",
    "from nltk.stem.porter import PorterStemmer\n",
    "from nltk.stem import WordNetLemmatizer"
   ]
  },
  {
   "cell_type": "code",
   "execution_count": 5,
   "id": "f500919b",
   "metadata": {},
   "outputs": [],
   "source": [
    "file_path = \"/Users/rohit/Desktop/SMSSpamCollection.txt\""
   ]
  },
  {
   "cell_type": "code",
   "execution_count": 6,
   "id": "d5a9db9c",
   "metadata": {},
   "outputs": [],
   "source": [
    "df = pd.read_csv(file_path, sep = \"\\t\")"
   ]
  },
  {
   "cell_type": "code",
   "execution_count": 7,
   "id": "a3f94639",
   "metadata": {},
   "outputs": [
    {
     "data": {
      "text/html": [
       "<div>\n",
       "<style scoped>\n",
       "    .dataframe tbody tr th:only-of-type {\n",
       "        vertical-align: middle;\n",
       "    }\n",
       "\n",
       "    .dataframe tbody tr th {\n",
       "        vertical-align: top;\n",
       "    }\n",
       "\n",
       "    .dataframe thead th {\n",
       "        text-align: right;\n",
       "    }\n",
       "</style>\n",
       "<table border=\"1\" class=\"dataframe\">\n",
       "  <thead>\n",
       "    <tr style=\"text-align: right;\">\n",
       "      <th></th>\n",
       "      <th>ham</th>\n",
       "      <th>Go until jurong point, crazy.. Available only in bugis n great world la e buffet... Cine there got amore wat...</th>\n",
       "    </tr>\n",
       "  </thead>\n",
       "  <tbody>\n",
       "    <tr>\n",
       "      <th>0</th>\n",
       "      <td>ham</td>\n",
       "      <td>Ok lar... Joking wif u oni...</td>\n",
       "    </tr>\n",
       "    <tr>\n",
       "      <th>1</th>\n",
       "      <td>spam</td>\n",
       "      <td>Free entry in 2 a wkly comp to win FA Cup fina...</td>\n",
       "    </tr>\n",
       "    <tr>\n",
       "      <th>2</th>\n",
       "      <td>ham</td>\n",
       "      <td>U dun say so early hor... U c already then say...</td>\n",
       "    </tr>\n",
       "    <tr>\n",
       "      <th>3</th>\n",
       "      <td>ham</td>\n",
       "      <td>Nah I don't think he goes to usf, he lives aro...</td>\n",
       "    </tr>\n",
       "    <tr>\n",
       "      <th>4</th>\n",
       "      <td>spam</td>\n",
       "      <td>FreeMsg Hey there darling it's been 3 week's n...</td>\n",
       "    </tr>\n",
       "  </tbody>\n",
       "</table>\n",
       "</div>"
      ],
      "text/plain": [
       "    ham  \\\n",
       "0   ham   \n",
       "1  spam   \n",
       "2   ham   \n",
       "3   ham   \n",
       "4  spam   \n",
       "\n",
       "  Go until jurong point, crazy.. Available only in bugis n great world la e buffet... Cine there got amore wat...  \n",
       "0                      Ok lar... Joking wif u oni...                                                               \n",
       "1  Free entry in 2 a wkly comp to win FA Cup fina...                                                               \n",
       "2  U dun say so early hor... U c already then say...                                                               \n",
       "3  Nah I don't think he goes to usf, he lives aro...                                                               \n",
       "4  FreeMsg Hey there darling it's been 3 week's n...                                                               "
      ]
     },
     "execution_count": 7,
     "metadata": {},
     "output_type": "execute_result"
    }
   ],
   "source": [
    "df.head()"
   ]
  },
  {
   "cell_type": "code",
   "execution_count": 8,
   "id": "032d12fe",
   "metadata": {},
   "outputs": [],
   "source": [
    "msgs = pd.read_csv(file_path, sep = \"\\t\", names = [\"label\", \"message\"])"
   ]
  },
  {
   "cell_type": "code",
   "execution_count": 9,
   "id": "43802b62",
   "metadata": {},
   "outputs": [
    {
     "data": {
      "text/html": [
       "<div>\n",
       "<style scoped>\n",
       "    .dataframe tbody tr th:only-of-type {\n",
       "        vertical-align: middle;\n",
       "    }\n",
       "\n",
       "    .dataframe tbody tr th {\n",
       "        vertical-align: top;\n",
       "    }\n",
       "\n",
       "    .dataframe thead th {\n",
       "        text-align: right;\n",
       "    }\n",
       "</style>\n",
       "<table border=\"1\" class=\"dataframe\">\n",
       "  <thead>\n",
       "    <tr style=\"text-align: right;\">\n",
       "      <th></th>\n",
       "      <th>label</th>\n",
       "      <th>message</th>\n",
       "    </tr>\n",
       "  </thead>\n",
       "  <tbody>\n",
       "    <tr>\n",
       "      <th>0</th>\n",
       "      <td>ham</td>\n",
       "      <td>Go until jurong point, crazy.. Available only ...</td>\n",
       "    </tr>\n",
       "    <tr>\n",
       "      <th>1</th>\n",
       "      <td>ham</td>\n",
       "      <td>Ok lar... Joking wif u oni...</td>\n",
       "    </tr>\n",
       "    <tr>\n",
       "      <th>2</th>\n",
       "      <td>spam</td>\n",
       "      <td>Free entry in 2 a wkly comp to win FA Cup fina...</td>\n",
       "    </tr>\n",
       "    <tr>\n",
       "      <th>3</th>\n",
       "      <td>ham</td>\n",
       "      <td>U dun say so early hor... U c already then say...</td>\n",
       "    </tr>\n",
       "    <tr>\n",
       "      <th>4</th>\n",
       "      <td>ham</td>\n",
       "      <td>Nah I don't think he goes to usf, he lives aro...</td>\n",
       "    </tr>\n",
       "    <tr>\n",
       "      <th>...</th>\n",
       "      <td>...</td>\n",
       "      <td>...</td>\n",
       "    </tr>\n",
       "    <tr>\n",
       "      <th>5567</th>\n",
       "      <td>spam</td>\n",
       "      <td>This is the 2nd time we have tried 2 contact u...</td>\n",
       "    </tr>\n",
       "    <tr>\n",
       "      <th>5568</th>\n",
       "      <td>ham</td>\n",
       "      <td>Will ü b going to esplanade fr home?</td>\n",
       "    </tr>\n",
       "    <tr>\n",
       "      <th>5569</th>\n",
       "      <td>ham</td>\n",
       "      <td>Pity, * was in mood for that. So...any other s...</td>\n",
       "    </tr>\n",
       "    <tr>\n",
       "      <th>5570</th>\n",
       "      <td>ham</td>\n",
       "      <td>The guy did some bitching but I acted like i'd...</td>\n",
       "    </tr>\n",
       "    <tr>\n",
       "      <th>5571</th>\n",
       "      <td>ham</td>\n",
       "      <td>Rofl. Its true to its name</td>\n",
       "    </tr>\n",
       "  </tbody>\n",
       "</table>\n",
       "<p>5572 rows × 2 columns</p>\n",
       "</div>"
      ],
      "text/plain": [
       "     label                                            message\n",
       "0      ham  Go until jurong point, crazy.. Available only ...\n",
       "1      ham                      Ok lar... Joking wif u oni...\n",
       "2     spam  Free entry in 2 a wkly comp to win FA Cup fina...\n",
       "3      ham  U dun say so early hor... U c already then say...\n",
       "4      ham  Nah I don't think he goes to usf, he lives aro...\n",
       "...    ...                                                ...\n",
       "5567  spam  This is the 2nd time we have tried 2 contact u...\n",
       "5568   ham               Will ü b going to esplanade fr home?\n",
       "5569   ham  Pity, * was in mood for that. So...any other s...\n",
       "5570   ham  The guy did some bitching but I acted like i'd...\n",
       "5571   ham                         Rofl. Its true to its name\n",
       "\n",
       "[5572 rows x 2 columns]"
      ]
     },
     "execution_count": 9,
     "metadata": {},
     "output_type": "execute_result"
    }
   ],
   "source": [
    "msgs"
   ]
  },
  {
   "cell_type": "code",
   "execution_count": 10,
   "id": "5c81f875",
   "metadata": {},
   "outputs": [
    {
     "data": {
      "text/html": [
       "<div>\n",
       "<style scoped>\n",
       "    .dataframe tbody tr th:only-of-type {\n",
       "        vertical-align: middle;\n",
       "    }\n",
       "\n",
       "    .dataframe tbody tr th {\n",
       "        vertical-align: top;\n",
       "    }\n",
       "\n",
       "    .dataframe thead th {\n",
       "        text-align: right;\n",
       "    }\n",
       "</style>\n",
       "<table border=\"1\" class=\"dataframe\">\n",
       "  <thead>\n",
       "    <tr style=\"text-align: right;\">\n",
       "      <th></th>\n",
       "      <th>label</th>\n",
       "      <th>message</th>\n",
       "    </tr>\n",
       "  </thead>\n",
       "  <tbody>\n",
       "    <tr>\n",
       "      <th>0</th>\n",
       "      <td>ham</td>\n",
       "      <td>Go until jurong point, crazy.. Available only ...</td>\n",
       "    </tr>\n",
       "    <tr>\n",
       "      <th>1</th>\n",
       "      <td>ham</td>\n",
       "      <td>Ok lar... Joking wif u oni...</td>\n",
       "    </tr>\n",
       "    <tr>\n",
       "      <th>2</th>\n",
       "      <td>spam</td>\n",
       "      <td>Free entry in 2 a wkly comp to win FA Cup fina...</td>\n",
       "    </tr>\n",
       "    <tr>\n",
       "      <th>3</th>\n",
       "      <td>ham</td>\n",
       "      <td>U dun say so early hor... U c already then say...</td>\n",
       "    </tr>\n",
       "  </tbody>\n",
       "</table>\n",
       "</div>"
      ],
      "text/plain": [
       "  label                                            message\n",
       "0   ham  Go until jurong point, crazy.. Available only ...\n",
       "1   ham                      Ok lar... Joking wif u oni...\n",
       "2  spam  Free entry in 2 a wkly comp to win FA Cup fina...\n",
       "3   ham  U dun say so early hor... U c already then say..."
      ]
     },
     "execution_count": 10,
     "metadata": {},
     "output_type": "execute_result"
    }
   ],
   "source": [
    "msgs[:4]"
   ]
  },
  {
   "cell_type": "code",
   "execution_count": 11,
   "id": "60d43292",
   "metadata": {},
   "outputs": [
    {
     "data": {
      "text/html": [
       "<div>\n",
       "<style scoped>\n",
       "    .dataframe tbody tr th:only-of-type {\n",
       "        vertical-align: middle;\n",
       "    }\n",
       "\n",
       "    .dataframe tbody tr th {\n",
       "        vertical-align: top;\n",
       "    }\n",
       "\n",
       "    .dataframe thead th {\n",
       "        text-align: right;\n",
       "    }\n",
       "</style>\n",
       "<table border=\"1\" class=\"dataframe\">\n",
       "  <thead>\n",
       "    <tr style=\"text-align: right;\">\n",
       "      <th></th>\n",
       "      <th>label</th>\n",
       "      <th>message</th>\n",
       "    </tr>\n",
       "  </thead>\n",
       "  <tbody>\n",
       "    <tr>\n",
       "      <th>count</th>\n",
       "      <td>5572</td>\n",
       "      <td>5572</td>\n",
       "    </tr>\n",
       "    <tr>\n",
       "      <th>unique</th>\n",
       "      <td>2</td>\n",
       "      <td>5169</td>\n",
       "    </tr>\n",
       "    <tr>\n",
       "      <th>top</th>\n",
       "      <td>ham</td>\n",
       "      <td>Sorry, I'll call later</td>\n",
       "    </tr>\n",
       "    <tr>\n",
       "      <th>freq</th>\n",
       "      <td>4825</td>\n",
       "      <td>30</td>\n",
       "    </tr>\n",
       "  </tbody>\n",
       "</table>\n",
       "</div>"
      ],
      "text/plain": [
       "       label                 message\n",
       "count   5572                    5572\n",
       "unique     2                    5169\n",
       "top      ham  Sorry, I'll call later\n",
       "freq    4825                      30"
      ]
     },
     "execution_count": 11,
     "metadata": {},
     "output_type": "execute_result"
    }
   ],
   "source": [
    "msgs.describe()"
   ]
  },
  {
   "cell_type": "code",
   "execution_count": 12,
   "id": "e1c14444",
   "metadata": {},
   "outputs": [
    {
     "name": "stdout",
     "output_type": "stream",
     "text": [
      "    label                                            message\n",
      "103   ham  As per your request 'Melle Melle (Oru Minnamin...\n",
      "154   ham  As per your request 'Melle Melle (Oru Minnamin...\n",
      "207   ham  As I entered my cabin my PA said, '' Happy B'd...\n",
      "223   ham                             Sorry, I'll call later\n",
      "326   ham                   No calls..messages..missed calls\n"
     ]
    }
   ],
   "source": [
    "duplicatedRow = msgs[msgs.duplicated()]\n",
    "print(duplicatedRow[:5])"
   ]
  },
  {
   "cell_type": "code",
   "execution_count": 13,
   "id": "be993c99",
   "metadata": {},
   "outputs": [
    {
     "data": {
      "text/html": [
       "<div>\n",
       "<style scoped>\n",
       "    .dataframe tbody tr th:only-of-type {\n",
       "        vertical-align: middle;\n",
       "    }\n",
       "\n",
       "    .dataframe tbody tr th {\n",
       "        vertical-align: top;\n",
       "    }\n",
       "\n",
       "    .dataframe thead th {\n",
       "        text-align: right;\n",
       "    }\n",
       "</style>\n",
       "<table border=\"1\" class=\"dataframe\">\n",
       "  <thead>\n",
       "    <tr style=\"text-align: right;\">\n",
       "      <th></th>\n",
       "      <th>label</th>\n",
       "      <th>ham</th>\n",
       "      <th>spam</th>\n",
       "    </tr>\n",
       "  </thead>\n",
       "  <tbody>\n",
       "    <tr>\n",
       "      <th rowspan=\"4\" valign=\"top\">message</th>\n",
       "      <th>count</th>\n",
       "      <td>4825</td>\n",
       "      <td>747</td>\n",
       "    </tr>\n",
       "    <tr>\n",
       "      <th>unique</th>\n",
       "      <td>4516</td>\n",
       "      <td>653</td>\n",
       "    </tr>\n",
       "    <tr>\n",
       "      <th>top</th>\n",
       "      <td>Sorry, I'll call later</td>\n",
       "      <td>Please call our customer service representativ...</td>\n",
       "    </tr>\n",
       "    <tr>\n",
       "      <th>freq</th>\n",
       "      <td>30</td>\n",
       "      <td>4</td>\n",
       "    </tr>\n",
       "  </tbody>\n",
       "</table>\n",
       "</div>"
      ],
      "text/plain": [
       "label                              ham  \\\n",
       "message count                     4825   \n",
       "        unique                    4516   \n",
       "        top     Sorry, I'll call later   \n",
       "        freq                        30   \n",
       "\n",
       "label                                                        spam  \n",
       "message count                                                 747  \n",
       "        unique                                                653  \n",
       "        top     Please call our customer service representativ...  \n",
       "        freq                                                    4  "
      ]
     },
     "execution_count": 13,
     "metadata": {},
     "output_type": "execute_result"
    }
   ],
   "source": [
    "msgs.groupby('label').describe().T"
   ]
  },
  {
   "cell_type": "code",
   "execution_count": 14,
   "id": "40d7bd79",
   "metadata": {},
   "outputs": [],
   "source": [
    "lemmatizer=WordNetLemmatizer()"
   ]
  },
  {
   "cell_type": "code",
   "execution_count": 15,
   "id": "05708a7c",
   "metadata": {},
   "outputs": [],
   "source": [
    "corpus = []"
   ]
  },
  {
   "cell_type": "code",
   "execution_count": 16,
   "id": "2a069c28",
   "metadata": {},
   "outputs": [],
   "source": [
    "for i in range(0,len(msgs)):\n",
    "    review=re.sub('[^a-zA-Z]','',msgs['message'][i])\n",
    "    review=review.lower()\n",
    "    review=review.split()\n",
    "    review=[lemmatizer.lemmatize(word) for word in review if not word in stopwords.words('english')]\n",
    "    review=' '.join(review)\n",
    "    corpus.append(review)"
   ]
  },
  {
   "cell_type": "code",
   "execution_count": 17,
   "id": "a624c6c6",
   "metadata": {},
   "outputs": [
    {
     "data": {
      "text/html": [
       "<div>\n",
       "<style scoped>\n",
       "    .dataframe tbody tr th:only-of-type {\n",
       "        vertical-align: middle;\n",
       "    }\n",
       "\n",
       "    .dataframe tbody tr th {\n",
       "        vertical-align: top;\n",
       "    }\n",
       "\n",
       "    .dataframe thead th {\n",
       "        text-align: right;\n",
       "    }\n",
       "</style>\n",
       "<table border=\"1\" class=\"dataframe\">\n",
       "  <thead>\n",
       "    <tr style=\"text-align: right;\">\n",
       "      <th></th>\n",
       "      <th>ham</th>\n",
       "      <th>Go until jurong point, crazy.. Available only in bugis n great world la e buffet... Cine there got amore wat...</th>\n",
       "    </tr>\n",
       "  </thead>\n",
       "  <tbody>\n",
       "    <tr>\n",
       "      <th>0</th>\n",
       "      <td>ham</td>\n",
       "      <td>Ok lar... Joking wif u oni...</td>\n",
       "    </tr>\n",
       "    <tr>\n",
       "      <th>1</th>\n",
       "      <td>spam</td>\n",
       "      <td>Free entry in 2 a wkly comp to win FA Cup fina...</td>\n",
       "    </tr>\n",
       "    <tr>\n",
       "      <th>2</th>\n",
       "      <td>ham</td>\n",
       "      <td>U dun say so early hor... U c already then say...</td>\n",
       "    </tr>\n",
       "    <tr>\n",
       "      <th>3</th>\n",
       "      <td>ham</td>\n",
       "      <td>Nah I don't think he goes to usf, he lives aro...</td>\n",
       "    </tr>\n",
       "    <tr>\n",
       "      <th>4</th>\n",
       "      <td>spam</td>\n",
       "      <td>FreeMsg Hey there darling it's been 3 week's n...</td>\n",
       "    </tr>\n",
       "  </tbody>\n",
       "</table>\n",
       "</div>"
      ],
      "text/plain": [
       "    ham  \\\n",
       "0   ham   \n",
       "1  spam   \n",
       "2   ham   \n",
       "3   ham   \n",
       "4  spam   \n",
       "\n",
       "  Go until jurong point, crazy.. Available only in bugis n great world la e buffet... Cine there got amore wat...  \n",
       "0                      Ok lar... Joking wif u oni...                                                               \n",
       "1  Free entry in 2 a wkly comp to win FA Cup fina...                                                               \n",
       "2  U dun say so early hor... U c already then say...                                                               \n",
       "3  Nah I don't think he goes to usf, he lives aro...                                                               \n",
       "4  FreeMsg Hey there darling it's been 3 week's n...                                                               "
      ]
     },
     "execution_count": 17,
     "metadata": {},
     "output_type": "execute_result"
    }
   ],
   "source": [
    "df.head()"
   ]
  },
  {
   "cell_type": "code",
   "execution_count": 18,
   "id": "bc891029",
   "metadata": {},
   "outputs": [
    {
     "data": {
      "text/html": [
       "<div>\n",
       "<style scoped>\n",
       "    .dataframe tbody tr th:only-of-type {\n",
       "        vertical-align: middle;\n",
       "    }\n",
       "\n",
       "    .dataframe tbody tr th {\n",
       "        vertical-align: top;\n",
       "    }\n",
       "\n",
       "    .dataframe thead th {\n",
       "        text-align: right;\n",
       "    }\n",
       "</style>\n",
       "<table border=\"1\" class=\"dataframe\">\n",
       "  <thead>\n",
       "    <tr style=\"text-align: right;\">\n",
       "      <th></th>\n",
       "      <th>label</th>\n",
       "      <th>message</th>\n",
       "    </tr>\n",
       "  </thead>\n",
       "  <tbody>\n",
       "    <tr>\n",
       "      <th>0</th>\n",
       "      <td>ham</td>\n",
       "      <td>Go until jurong point, crazy.. Available only ...</td>\n",
       "    </tr>\n",
       "    <tr>\n",
       "      <th>1</th>\n",
       "      <td>ham</td>\n",
       "      <td>Ok lar... Joking wif u oni...</td>\n",
       "    </tr>\n",
       "    <tr>\n",
       "      <th>2</th>\n",
       "      <td>spam</td>\n",
       "      <td>Free entry in 2 a wkly comp to win FA Cup fina...</td>\n",
       "    </tr>\n",
       "    <tr>\n",
       "      <th>3</th>\n",
       "      <td>ham</td>\n",
       "      <td>U dun say so early hor... U c already then say...</td>\n",
       "    </tr>\n",
       "    <tr>\n",
       "      <th>4</th>\n",
       "      <td>ham</td>\n",
       "      <td>Nah I don't think he goes to usf, he lives aro...</td>\n",
       "    </tr>\n",
       "  </tbody>\n",
       "</table>\n",
       "</div>"
      ],
      "text/plain": [
       "  label                                            message\n",
       "0   ham  Go until jurong point, crazy.. Available only ...\n",
       "1   ham                      Ok lar... Joking wif u oni...\n",
       "2  spam  Free entry in 2 a wkly comp to win FA Cup fina...\n",
       "3   ham  U dun say so early hor... U c already then say...\n",
       "4   ham  Nah I don't think he goes to usf, he lives aro..."
      ]
     },
     "execution_count": 18,
     "metadata": {},
     "output_type": "execute_result"
    }
   ],
   "source": [
    "msgs.head()"
   ]
  },
  {
   "cell_type": "code",
   "execution_count": 19,
   "id": "9d7be100",
   "metadata": {},
   "outputs": [],
   "source": [
    "ham_msg = msgs[msgs.label == 'ham']\n",
    "spam_msg = msgs[msgs.label == 'spam']"
   ]
  },
  {
   "cell_type": "code",
   "execution_count": 20,
   "id": "544dcf5d",
   "metadata": {},
   "outputs": [],
   "source": [
    "ham_msg_txt = \" \".join(ham_msg.message.to_numpy().tolist())\n",
    "spam_msg_txt = \" \".join(spam_msg.message.to_numpy().tolist())"
   ]
  },
  {
   "cell_type": "code",
   "execution_count": 21,
   "id": "81a1c5d7",
   "metadata": {},
   "outputs": [
    {
     "data": {
      "text/plain": [
       "<Figure size 720x576 with 0 Axes>"
      ]
     },
     "execution_count": 21,
     "metadata": {},
     "output_type": "execute_result"
    },
    {
     "data": {
      "text/plain": [
       "<Figure size 720x576 with 0 Axes>"
      ]
     },
     "metadata": {},
     "output_type": "display_data"
    }
   ],
   "source": [
    "plt.figure(figsize = (10,8))"
   ]
  },
  {
   "cell_type": "code",
   "execution_count": 22,
   "id": "8824203e",
   "metadata": {},
   "outputs": [
    {
     "name": "stderr",
     "output_type": "stream",
     "text": [
      "/Users/rohit/opt/anaconda3/lib/python3.9/site-packages/seaborn/_decorators.py:36: FutureWarning: Pass the following variable as a keyword arg: x. From version 0.12, the only valid positional argument will be `data`, and passing other arguments without an explicit keyword will result in an error or misinterpretation.\n",
      "  warnings.warn(\n"
     ]
    },
    {
     "data": {
      "text/plain": [
       "<AxesSubplot:xlabel='label', ylabel='count'>"
      ]
     },
     "execution_count": 22,
     "metadata": {},
     "output_type": "execute_result"
    },
    {
     "data": {
      "image/png": "[encoded data removed]",
      "text/plain": [
       "<Figure size 432x288 with 1 Axes>"
      ]
     },
     "metadata": {
      "needs_background": "light"
     },
     "output_type": "display_data"
    }
   ],
   "source": [
    "sns.countplot(msgs.label)"
   ]
  },
  {
   "cell_type": "code",
   "execution_count": 26,
   "id": "497a7d47",
   "metadata": {},
   "outputs": [
    {
     "name": "stdout",
     "output_type": "stream",
     "text": [
      "(747, 2) (747, 2)\n"
     ]
    }
   ],
   "source": [
    "ham_msg_df = ham_msg.sample(n = len(spam_msg), random_state = 44) #Downsampling\n",
    "spam_msg_df = spam_msg\n",
    "print(ham_msg_df.shape, spam_msg_df.shape)"
   ]
  },
  {
   "cell_type": "code",
   "execution_count": 24,
   "id": "76a64178",
   "metadata": {},
   "outputs": [
    {
     "name": "stdout",
     "output_type": "stream",
     "text": [
      "(4825, 2)\n"
     ]
    }
   ],
   "source": [
    "spam_msg_df = spam_msg.sample(n = len(ham_msg), random_state = 42, replace = True) #Upsampling\n",
    "ham_msg_df = spam_msg\n",
    "print(spam_msg_df.shape)"
   ]
  },
  {
   "cell_type": "code",
   "execution_count": 29,
   "id": "4ac25bd6",
   "metadata": {},
   "outputs": [
    {
     "name": "stderr",
     "output_type": "stream",
     "text": [
      "/Users/rohit/opt/anaconda3/lib/python3.9/site-packages/seaborn/_decorators.py:36: FutureWarning: Pass the following variable as a keyword arg: x. From version 0.12, the only valid positional argument will be `data`, and passing other arguments without an explicit keyword will result in an error or misinterpretation.\n",
      "  warnings.warn(\n"
     ]
    },
    {
     "data": {
      "text/plain": [
       "Text(0.5, 0, 'Message types')"
      ]
     },
     "execution_count": 29,
     "metadata": {},
     "output_type": "execute_result"
    },
    {
     "data": {
      "image/png": "[encoded data removed]",
      "text/plain": [
       "<Figure size 432x288 with 1 Axes>"
      ]
     },
     "metadata": {
      "needs_background": "light"
     },
     "output_type": "display_data"
    }
   ],
   "source": [
    "message_df = ham_msg_df.append(spam_msg_df).reset_index(drop=True)\n",
    "plt.figure(figsize=(6,4))\n",
    "sns.countplot(message_df.label)\n",
    "plt.title('Downsampling of ham and spam messages')\n",
    "plt.xlabel('Message types')"
   ]
  },
  {
   "cell_type": "code",
   "execution_count": 30,
   "id": "6e3f00b4",
   "metadata": {},
   "outputs": [],
   "source": [
    "message_df['text_length'] = message_df['message'].apply(len)"
   ]
  },
  {
   "cell_type": "code",
   "execution_count": 31,
   "id": "2ed0ce40",
   "metadata": {},
   "outputs": [],
   "source": [
    "labels = message_df.groupby('label').mean()"
   ]
  },
  {
   "cell_type": "code",
   "execution_count": 32,
   "id": "d118b1d3",
   "metadata": {},
   "outputs": [],
   "source": [
    "message_df['message_type']= message_df['label'].map({'ham': 0, 'spam': 1})\n",
    "message_label = message_df['message_type'].values"
   ]
  },
  {
   "cell_type": "code",
   "execution_count": 35,
   "id": "c06cf03a",
   "metadata": {},
   "outputs": [],
   "source": [
    "train_msg, test_msg, train_labels, test_labels = train_test_split(message_df['message'], message_label, test_size=0.2, random_state=434)"
   ]
  },
  {
   "cell_type": "code",
   "execution_count": 34,
   "id": "4cbc5607",
   "metadata": {},
   "outputs": [],
   "source": [
    "from sklearn.model_selection import train_test_split"
   ]
  },
  {
   "cell_type": "code",
   "execution_count": 36,
   "id": "e9267b59",
   "metadata": {},
   "outputs": [],
   "source": [
    "max_length = 50 \n",
    "trunc_type = \"post\" \n",
    "padding_type = \"post\" \n",
    "oov_tok = \"<OOV>\" \n",
    "vocabsize = 500"
   ]
  },
  {
   "cell_type": "code",
   "execution_count": 37,
   "id": "9daf3210",
   "metadata": {},
   "outputs": [],
   "source": [
    "vocabsize = 500     #Sequential model hyper parameters\n",
    "embeding_dim = 16\n",
    "drop_value = 0.2 \n",
    "n_dense = 24"
   ]
  },
  {
   "cell_type": "code",
   "execution_count": 38,
   "id": "ec530310",
   "metadata": {},
   "outputs": [
    {
     "name": "stderr",
     "output_type": "stream",
     "text": [
      "2022-03-02 12:02:04.722273: I tensorflow/core/platform/cpu_feature_guard.cc:151] This TensorFlow binary is optimized with oneAPI Deep Neural Network Library (oneDNN) to use the following CPU instructions in performance-critical operations:  AVX2 FMA\n",
      "To enable them in other operations, rebuild TensorFlow with the appropriate compiler flags.\n"
     ]
    }
   ],
   "source": [
    "model = Sequential()\n",
    "model.add(Embedding(vocabsize, embeding_dim, input_length=max_length))\n",
    "model.add(GlobalAveragePooling1D())\n",
    "model.add(Dense(24, activation='relu'))\n",
    "model.add(Dropout(drop_value))\n",
    "model.add(Dense(1, activation='sigmoid'))"
   ]
  },
  {
   "cell_type": "code",
   "execution_count": 39,
   "id": "01a47711",
   "metadata": {},
   "outputs": [
    {
     "data": {
      "text/html": [
       "<div>\n",
       "<style scoped>\n",
       "    .dataframe tbody tr th:only-of-type {\n",
       "        vertical-align: middle;\n",
       "    }\n",
       "\n",
       "    .dataframe tbody tr th {\n",
       "        vertical-align: top;\n",
       "    }\n",
       "\n",
       "    .dataframe thead th {\n",
       "        text-align: right;\n",
       "    }\n",
       "</style>\n",
       "<table border=\"1\" class=\"dataframe\">\n",
       "  <thead>\n",
       "    <tr style=\"text-align: right;\">\n",
       "      <th></th>\n",
       "      <th>label</th>\n",
       "      <th>message</th>\n",
       "    </tr>\n",
       "  </thead>\n",
       "  <tbody>\n",
       "    <tr>\n",
       "      <th>0</th>\n",
       "      <td>ham</td>\n",
       "      <td>Go until jurong point, crazy.. Available only in bugis n great world la e buffet... Cine there g...</td>\n",
       "    </tr>\n",
       "    <tr>\n",
       "      <th>1</th>\n",
       "      <td>ham</td>\n",
       "      <td>Ok lar... Joking wif u oni...</td>\n",
       "    </tr>\n",
       "    <tr>\n",
       "      <th>2</th>\n",
       "      <td>spam</td>\n",
       "      <td>Free entry in 2 a wkly comp to win FA Cup final tkts 21st May 2005. Text FA to 87121 to receive ...</td>\n",
       "    </tr>\n",
       "  </tbody>\n",
       "</table>\n",
       "</div>"
      ],
      "text/plain": [
       "  label  \\\n",
       "0   ham   \n",
       "1   ham   \n",
       "2  spam   \n",
       "\n",
       "                                                                                               message  \n",
       "0  Go until jurong point, crazy.. Available only in bugis n great world la e buffet... Cine there g...  \n",
       "1                                                                        Ok lar... Joking wif u oni...  \n",
       "2  Free entry in 2 a wkly comp to win FA Cup final tkts 21st May 2005. Text FA to 87121 to receive ...  "
      ]
     },
     "execution_count": 39,
     "metadata": {},
     "output_type": "execute_result"
    }
   ],
   "source": [
    "pd.options.display.max_colwidth=100\n",
    "msgs[:3]"
   ]
  },
  {
   "cell_type": "code",
   "execution_count": 40,
   "id": "73141c50",
   "metadata": {},
   "outputs": [],
   "source": [
    "tokenizer = Tokenizer(num_words = vocabsize, char_level = False, oov_token = oov_tok)\n",
    "tokenizer.fit_on_texts(train_msg)"
   ]
  },
  {
   "cell_type": "code",
   "execution_count": 41,
   "id": "b9c05f7c",
   "metadata": {},
   "outputs": [],
   "source": [
    "word_index = tokenizer.word_index"
   ]
  },
  {
   "cell_type": "code",
   "execution_count": 42,
   "id": "0717a264",
   "metadata": {},
   "outputs": [
    {
     "data": {
      "text/plain": [
       "{'<OOV>': 1,\n",
       " 'to': 2,\n",
       " 'you': 3,\n",
       " 'a': 4,\n",
       " 'i': 5,\n",
       " 'call': 6,\n",
       " 'the': 7,\n",
       " 'u': 8,\n",
       " 'your': 9,\n",
       " 'for': 10,\n",
       " 'is': 11,\n",
       " '2': 12,\n",
       " 'and': 13,\n",
       " 'now': 14,\n",
       " 'free': 15,\n",
       " 'or': 16,\n",
       " 'on': 17,\n",
       " 'in': 18,\n",
       " 'ur': 19,\n",
       " 'have': 20,\n",
       " '4': 21,\n",
       " 'txt': 22,\n",
       " 'of': 23,\n",
       " 'are': 24,\n",
       " 'with': 25,\n",
       " 'me': 26,\n",
       " 'from': 27,\n",
       " 'text': 28,\n",
       " 'get': 29,\n",
       " 'my': 30,\n",
       " 'it': 31,\n",
       " 'stop': 32,\n",
       " 'just': 33,\n",
       " 'mobile': 34,\n",
       " 'this': 35,\n",
       " 'will': 36,\n",
       " 'be': 37,\n",
       " 'no': 38,\n",
       " 'that': 39,\n",
       " 'claim': 40,\n",
       " 'reply': 41,\n",
       " 'can': 42,\n",
       " 'so': 43,\n",
       " 'send': 44,\n",
       " 'www': 45,\n",
       " 'we': 46,\n",
       " 'only': 47,\n",
       " 'our': 48,\n",
       " 'not': 49,\n",
       " 'out': 50,\n",
       " 'at': 51,\n",
       " 'do': 52,\n",
       " 'if': 53,\n",
       " 'prize': 54,\n",
       " 'new': 55,\n",
       " 'go': 56,\n",
       " 'cash': 57,\n",
       " 'but': 58,\n",
       " '150p': 59,\n",
       " 'uk': 60,\n",
       " '1': 61,\n",
       " 'nokia': 62,\n",
       " 'who': 63,\n",
       " 't': 64,\n",
       " 'all': 65,\n",
       " 'win': 66,\n",
       " 'please': 67,\n",
       " 'won': 68,\n",
       " 'up': 69,\n",
       " 'tone': 70,\n",
       " 'when': 71,\n",
       " \"i'm\": 72,\n",
       " 'week': 73,\n",
       " 'been': 74,\n",
       " 'what': 75,\n",
       " 'msg': 76,\n",
       " '50': 77,\n",
       " 'com': 78,\n",
       " 'urgent': 79,\n",
       " 'how': 80,\n",
       " 'service': 81,\n",
       " 'phone': 82,\n",
       " 'time': 83,\n",
       " 'contact': 84,\n",
       " 'co': 85,\n",
       " 'love': 86,\n",
       " 'day': 87,\n",
       " 'know': 88,\n",
       " 'want': 89,\n",
       " '18': 90,\n",
       " 'by': 91,\n",
       " 'today': 92,\n",
       " '16': 93,\n",
       " 'has': 94,\n",
       " 'per': 95,\n",
       " 'was': 96,\n",
       " 'min': 97,\n",
       " 'r': 98,\n",
       " 'am': 99,\n",
       " 'as': 100,\n",
       " 'ok': 101,\n",
       " 'c': 102,\n",
       " 'like': 103,\n",
       " 'customer': 104,\n",
       " 'guaranteed': 105,\n",
       " 'see': 106,\n",
       " 'her': 107,\n",
       " 'its': 108,\n",
       " 'cs': 109,\n",
       " 'need': 110,\n",
       " 'every': 111,\n",
       " 'any': 112,\n",
       " 'then': 113,\n",
       " 'hi': 114,\n",
       " 'number': 115,\n",
       " 'good': 116,\n",
       " 'message': 117,\n",
       " 'line': 118,\n",
       " 'back': 119,\n",
       " 'there': 120,\n",
       " 'gt': 121,\n",
       " 'draw': 122,\n",
       " 'find': 123,\n",
       " 'chat': 124,\n",
       " 'they': 125,\n",
       " 'lt': 126,\n",
       " 'awarded': 127,\n",
       " '3': 128,\n",
       " 'more': 129,\n",
       " 'got': 130,\n",
       " 'dont': 131,\n",
       " 'tell': 132,\n",
       " 'take': 133,\n",
       " 'should': 134,\n",
       " 'camera': 135,\n",
       " 'sms': 136,\n",
       " '£1': 137,\n",
       " 'wk': 138,\n",
       " '£1000': 139,\n",
       " 'an': 140,\n",
       " 'mins': 141,\n",
       " 'receive': 142,\n",
       " 'n': 143,\n",
       " 'yes': 144,\n",
       " 'd': 145,\n",
       " 'she': 146,\n",
       " 'dear': 147,\n",
       " 'sorry': 148,\n",
       " 'live': 149,\n",
       " 'po': 150,\n",
       " 'box': 151,\n",
       " 'latest': 152,\n",
       " 'chance': 153,\n",
       " 'rate': 154,\n",
       " 'going': 155,\n",
       " 'video': 156,\n",
       " 'holiday': 157,\n",
       " 'here': 158,\n",
       " '150ppm': 159,\n",
       " 'about': 160,\n",
       " 'one': 161,\n",
       " 'home': 162,\n",
       " 'apply': 163,\n",
       " 'thanks': 164,\n",
       " \"don't\": 165,\n",
       " 'shows': 166,\n",
       " 'award': 167,\n",
       " 'pls': 168,\n",
       " 'ü': 169,\n",
       " 'landline': 170,\n",
       " 'tones': 171,\n",
       " 'come': 172,\n",
       " 'code': 173,\n",
       " 'make': 174,\n",
       " 'think': 175,\n",
       " 'still': 176,\n",
       " 'network': 177,\n",
       " 'ringtone': 178,\n",
       " 'last': 179,\n",
       " 's': 180,\n",
       " 'after': 181,\n",
       " 'selected': 182,\n",
       " '1st': 183,\n",
       " \"it's\": 184,\n",
       " 'orange': 185,\n",
       " 'had': 186,\n",
       " 'special': 187,\n",
       " 'give': 188,\n",
       " 'account': 189,\n",
       " 'night': 190,\n",
       " 'e': 191,\n",
       " 'much': 192,\n",
       " 'next': 193,\n",
       " 'he': 194,\n",
       " 'offer': 195,\n",
       " 'great': 196,\n",
       " 'weekly': 197,\n",
       " 'b': 198,\n",
       " '500': 199,\n",
       " 'where': 200,\n",
       " '£100': 201,\n",
       " 'valid': 202,\n",
       " 'music': 203,\n",
       " 'hey': 204,\n",
       " 'mob': 205,\n",
       " '10p': 206,\n",
       " 'play': 207,\n",
       " 'collect': 208,\n",
       " 'tomorrow': 209,\n",
       " 'miss': 210,\n",
       " 'way': 211,\n",
       " 'cost': 212,\n",
       " 'entry': 213,\n",
       " '8007': 214,\n",
       " 'hope': 215,\n",
       " 'national': 216,\n",
       " 'some': 217,\n",
       " 'collection': 218,\n",
       " 'why': 219,\n",
       " 'da': 220,\n",
       " '10': 221,\n",
       " 'vouchers': 222,\n",
       " 'meet': 223,\n",
       " 'trying': 224,\n",
       " '000': 225,\n",
       " 'well': 226,\n",
       " 'someone': 227,\n",
       " 'name': 228,\n",
       " 'word': 229,\n",
       " 'over': 230,\n",
       " 'games': 231,\n",
       " '£500': 232,\n",
       " 'http': 233,\n",
       " 'poly': 234,\n",
       " '5': 235,\n",
       " 'texts': 236,\n",
       " '86688': 237,\n",
       " 'care': 238,\n",
       " 'club': 239,\n",
       " 'todays': 240,\n",
       " 'price': 241,\n",
       " 'im': 242,\n",
       " 'oh': 243,\n",
       " 'babe': 244,\n",
       " 'await': 245,\n",
       " 'too': 246,\n",
       " 'sae': 247,\n",
       " 'hot': 248,\n",
       " 'sexy': 249,\n",
       " 'said': 250,\n",
       " \"c's\": 251,\n",
       " 'end': 252,\n",
       " 'bonus': 253,\n",
       " 'land': 254,\n",
       " 'gift': 255,\n",
       " 'bt': 256,\n",
       " 'delivery': 257,\n",
       " 'us': 258,\n",
       " 'help': 259,\n",
       " 'yours': 260,\n",
       " 'join': 261,\n",
       " 'x': 262,\n",
       " '£2000': 263,\n",
       " 'opt': 264,\n",
       " 'attempt': 265,\n",
       " 'really': 266,\n",
       " 'voucher': 267,\n",
       " \"i'll\": 268,\n",
       " 'xxx': 269,\n",
       " 'dating': 270,\n",
       " 'which': 271,\n",
       " 'right': 272,\n",
       " 'doing': 273,\n",
       " 'update': 274,\n",
       " 'colour': 275,\n",
       " '£3': 276,\n",
       " 'operator': 277,\n",
       " '£5000': 278,\n",
       " 'services': 279,\n",
       " 'private': 280,\n",
       " 'friend': 281,\n",
       " 'also': 282,\n",
       " 'did': 283,\n",
       " 'top': 284,\n",
       " '12hrs': 285,\n",
       " 'try': 286,\n",
       " 'say': 287,\n",
       " '750': 288,\n",
       " 'half': 289,\n",
       " 'waiting': 290,\n",
       " 'enjoy': 291,\n",
       " 'sent': 292,\n",
       " 'pic': 293,\n",
       " 'work': 294,\n",
       " '2nd': 295,\n",
       " 'lor': 296,\n",
       " 'double': 297,\n",
       " 'mobileupd8': 298,\n",
       " 'would': 299,\n",
       " 'quiz': 300,\n",
       " 'real': 301,\n",
       " '100': 302,\n",
       " '08000930705': 303,\n",
       " 'order': 304,\n",
       " 'm': 305,\n",
       " 'worth': 306,\n",
       " 'content': 307,\n",
       " 'xmas': 308,\n",
       " '£350': 309,\n",
       " 'wanna': 310,\n",
       " 'unsubscribe': 311,\n",
       " 'ltd': 312,\n",
       " 'wat': 313,\n",
       " 'tried': 314,\n",
       " 'around': 315,\n",
       " 'row': 316,\n",
       " 'days': 317,\n",
       " '£250': 318,\n",
       " 'guys': 319,\n",
       " 'later': 320,\n",
       " '6': 321,\n",
       " 'face': 322,\n",
       " 'hello': 323,\n",
       " 'speak': 324,\n",
       " 'camcorder': 325,\n",
       " 'charged': 326,\n",
       " 'were': 327,\n",
       " 'first': 328,\n",
       " 'final': 329,\n",
       " 'congratulations': 330,\n",
       " 'wkly': 331,\n",
       " '87066': 332,\n",
       " 'reveal': 333,\n",
       " 'money': 334,\n",
       " 'easy': 335,\n",
       " 'rental': 336,\n",
       " 'balance': 337,\n",
       " 'cant': 338,\n",
       " 'wait': 339,\n",
       " 'another': 340,\n",
       " 'freemsg': 341,\n",
       " 'pounds': 342,\n",
       " 'suite342': 343,\n",
       " '2lands': 344,\n",
       " 'ya': 345,\n",
       " 'life': 346,\n",
       " 'start': 347,\n",
       " 'off': 348,\n",
       " '08000839402': 349,\n",
       " 'phones': 350,\n",
       " 'best': 351,\n",
       " 'god': 352,\n",
       " 'people': 353,\n",
       " 'statement': 354,\n",
       " 'points': 355,\n",
       " 'identifier': 356,\n",
       " 'expires': 357,\n",
       " 'keep': 358,\n",
       " 'wap': 359,\n",
       " 'amp': 360,\n",
       " 'before': 361,\n",
       " 'secret': 362,\n",
       " 'ready': 363,\n",
       " 'info': 364,\n",
       " '£2': 365,\n",
       " 'winner': 366,\n",
       " 'done': 367,\n",
       " 'use': 368,\n",
       " 'mobiles': 369,\n",
       " 'auction': 370,\n",
       " 'early': 371,\n",
       " 'k': 372,\n",
       " 'soon': 373,\n",
       " 'fun': 374,\n",
       " 'g': 375,\n",
       " 'may': 376,\n",
       " 'very': 377,\n",
       " 'valued': 378,\n",
       " 'pics': 379,\n",
       " '0800': 380,\n",
       " 'messages': 381,\n",
       " 'pick': 382,\n",
       " 'friends': 383,\n",
       " 'could': 384,\n",
       " 'yet': 385,\n",
       " 'ringtones': 386,\n",
       " 'even': 387,\n",
       " 'custcare': 388,\n",
       " 'rates': 389,\n",
       " 'between': 390,\n",
       " 'looking': 391,\n",
       " 'again': 392,\n",
       " 'sleep': 393,\n",
       " '2003': 394,\n",
       " '800': 395,\n",
       " 'savamob': 396,\n",
       " 'offers': 397,\n",
       " 'tv': 398,\n",
       " 'f': 399,\n",
       " 'eg': 400,\n",
       " 'anything': 401,\n",
       " 'admirer': 402,\n",
       " 'thinks': 403,\n",
       " 'comes': 404,\n",
       " 'reward': 405,\n",
       " 'net': 406,\n",
       " 'year': 407,\n",
       " 'morning': 408,\n",
       " 'mates': 409,\n",
       " \"can't\": 410,\n",
       " 'important': 411,\n",
       " 'txts': 412,\n",
       " 'heart': 413,\n",
       " 'shopping': 414,\n",
       " 'gr8': 415,\n",
       " 'game': 416,\n",
       " 'call2optout': 417,\n",
       " 'shop': 418,\n",
       " '03': 419,\n",
       " 'many': 420,\n",
       " 'yr': 421,\n",
       " 'comp': 422,\n",
       " 'std': 423,\n",
       " 'guess': 424,\n",
       " 'msgs': 425,\n",
       " \"didn't\": 426,\n",
       " 'un': 427,\n",
       " 'redeemed': 428,\n",
       " '7': 429,\n",
       " 'wan': 430,\n",
       " 'charge': 431,\n",
       " 'bit': 432,\n",
       " 'weeks': 433,\n",
       " \"you're\": 434,\n",
       " 'numbers': 435,\n",
       " 'anytime': 436,\n",
       " 'them': 437,\n",
       " 'tc': 438,\n",
       " 'called': 439,\n",
       " 'being': 440,\n",
       " 'direct': 441,\n",
       " 'leave': 442,\n",
       " '11': 443,\n",
       " 'pobox': 444,\n",
       " 'him': 445,\n",
       " 'w1j6hl': 446,\n",
       " 'news': 447,\n",
       " 'ntt': 448,\n",
       " 'girl': 449,\n",
       " 'his': 450,\n",
       " 'thought': 451,\n",
       " 'player': 452,\n",
       " 'currently': 453,\n",
       " 'sex': 454,\n",
       " 'luv': 455,\n",
       " 'england': 456,\n",
       " 'eve': 457,\n",
       " 'down': 458,\n",
       " 'buy': 459,\n",
       " 'congrats': 460,\n",
       " 'having': 461,\n",
       " 'ts': 462,\n",
       " 'motorola': 463,\n",
       " 'calls': 464,\n",
       " 'complimentary': 465,\n",
       " 'caller': 466,\n",
       " 'month': 467,\n",
       " 'charity': 468,\n",
       " 'trip': 469,\n",
       " 'matches': 470,\n",
       " 'ipod': 471,\n",
       " 'minutes': 472,\n",
       " 'fuck': 473,\n",
       " 'ac': 474,\n",
       " '04': 475,\n",
       " '£150': 476,\n",
       " 'discount': 477,\n",
       " 'place': 478,\n",
       " '9': 479,\n",
       " 'getzed': 480,\n",
       " 'check': 481,\n",
       " 'ldew': 482,\n",
       " 'crazy': 483,\n",
       " 'minute': 484,\n",
       " 'ending': 485,\n",
       " 'enough': 486,\n",
       " 'id': 487,\n",
       " 'already': 488,\n",
       " 'talk': 489,\n",
       " 'inc': 490,\n",
       " 'digital': 491,\n",
       " 'dogging': 492,\n",
       " 'lucky': 493,\n",
       " 're': 494,\n",
       " 'late': 495,\n",
       " 'same': 496,\n",
       " 'ldn': 497,\n",
       " 'lar': 498,\n",
       " 'feel': 499,\n",
       " 'date': 500,\n",
       " 'age': 501,\n",
       " 'into': 502,\n",
       " 'fancy': 503,\n",
       " 'hg': 504,\n",
       " 'ill': 505,\n",
       " 'age16': 506,\n",
       " 'area': 507,\n",
       " 'within': 508,\n",
       " '08712460324': 509,\n",
       " \"t's\": 510,\n",
       " \"i've\": 511,\n",
       " 'little': 512,\n",
       " 'v': 513,\n",
       " '87077': 514,\n",
       " 'tonight': 515,\n",
       " 'stuff': 516,\n",
       " 'yeah': 517,\n",
       " 'ip4': 518,\n",
       " '5we': 519,\n",
       " 'boy': 520,\n",
       " 'asked': 521,\n",
       " '20p': 522,\n",
       " 'song': 523,\n",
       " 'polys': 524,\n",
       " 'plus': 525,\n",
       " 'representative': 526,\n",
       " 'match': 527,\n",
       " 'hit': 528,\n",
       " 'credit': 529,\n",
       " 'visit': 530,\n",
       " '00': 531,\n",
       " 'lunch': 532,\n",
       " 'does': 533,\n",
       " 'pm': 534,\n",
       " 'let': 535,\n",
       " 'each': 536,\n",
       " '£800': 537,\n",
       " 'cd': 538,\n",
       " 'cool': 539,\n",
       " 'weekend': 540,\n",
       " 'welcome': 541,\n",
       " 'away': 542,\n",
       " 'information': 543,\n",
       " 'question': 544,\n",
       " 'answer': 545,\n",
       " 'computer': 546,\n",
       " 'part': 547,\n",
       " 'man': 548,\n",
       " 'guy': 549,\n",
       " 'book': 550,\n",
       " 'specially': 551,\n",
       " '£10': 552,\n",
       " 'enter': 553,\n",
       " 'smiling': 554,\n",
       " 'dude': 555,\n",
       " 'xx': 556,\n",
       " 'cos': 557,\n",
       " 'user': 558,\n",
       " 'log': 559,\n",
       " 'better': 560,\n",
       " 'evening': 561,\n",
       " 'happy': 562,\n",
       " 'class': 563,\n",
       " 'mind': 564,\n",
       " 'wid': 565,\n",
       " '150': 566,\n",
       " 'other': 567,\n",
       " 'simple': 568,\n",
       " '£200': 569,\n",
       " 'store': 570,\n",
       " 'shit': 571,\n",
       " 'hmv': 572,\n",
       " 'del': 573,\n",
       " 'terms': 574,\n",
       " 'flag': 575,\n",
       " 'calling': 576,\n",
       " 'thk': 577,\n",
       " 'bluetooth': 578,\n",
       " 'ans': 579,\n",
       " 'alone': 580,\n",
       " 'etc': 581,\n",
       " 'bx420': 582,\n",
       " 'either': 583,\n",
       " 'busy': 584,\n",
       " 'baby': 585,\n",
       " '50p': 586,\n",
       " 'sony': 587,\n",
       " 'reach': 588,\n",
       " 'liao': 589,\n",
       " 'sunshine': 590,\n",
       " 'saturday': 591,\n",
       " '0870': 592,\n",
       " 'summer': 593,\n",
       " 'getting': 594,\n",
       " 'yo': 595,\n",
       " 'choose': 596,\n",
       " 'look': 597,\n",
       " 'rcvd': 598,\n",
       " '08718720201': 599,\n",
       " 'freephone': 600,\n",
       " 'details': 601,\n",
       " 'arrive': 602,\n",
       " 'red': 603,\n",
       " 'dvd': 604,\n",
       " 'bid': 605,\n",
       " '85023': 606,\n",
       " 'pobox84': 607,\n",
       " '2004': 608,\n",
       " '06': 609,\n",
       " 'town': 610,\n",
       " 'frnd': 611,\n",
       " 'show': 612,\n",
       " 'rply': 613,\n",
       " 'nothing': 614,\n",
       " 'tncs': 615,\n",
       " 'these': 616,\n",
       " 'vodafone': 617,\n",
       " '08712300220': 618,\n",
       " 'standard': 619,\n",
       " 'hours': 620,\n",
       " 'credits': 621,\n",
       " 'anyway': 622,\n",
       " 'flights': 623,\n",
       " 'must': 624,\n",
       " 'biz': 625,\n",
       " 'haha': 626,\n",
       " 'yup': 627,\n",
       " \"there's\": 628,\n",
       " 'world': 629,\n",
       " 'sub': 630,\n",
       " 'than': 631,\n",
       " '3030': 632,\n",
       " 'no1': 633,\n",
       " 'txting': 634,\n",
       " 'long': 635,\n",
       " 'onto': 636,\n",
       " 'fantastic': 637,\n",
       " 'awaiting': 638,\n",
       " 'driving': 639,\n",
       " 'access': 640,\n",
       " 'college': 641,\n",
       " 'o2': 642,\n",
       " 'vary': 643,\n",
       " 'knw': 644,\n",
       " 'person': 645,\n",
       " 'loan': 646,\n",
       " 'spree': 647,\n",
       " 'stay': 648,\n",
       " 'address': 649,\n",
       " 'maximize': 650,\n",
       " 'until': 651,\n",
       " 'sipix': 652,\n",
       " 'pc': 653,\n",
       " 'kiss': 654,\n",
       " 'gay': 655,\n",
       " 'costa': 656,\n",
       " 'sol': 657,\n",
       " 'sk38xh': 658,\n",
       " 'ask': 659,\n",
       " 'told': 660,\n",
       " '02': 661,\n",
       " 'gn': 662,\n",
       " 'zed': 663,\n",
       " 'went': 664,\n",
       " 'pass': 665,\n",
       " '150pm': 666,\n",
       " 'horny': 667,\n",
       " '25p': 668,\n",
       " 'sp': 669,\n",
       " 'starts': 670,\n",
       " 'holder': 671,\n",
       " '1327': 672,\n",
       " 'croydon': 673,\n",
       " 'cr9': 674,\n",
       " '5wb': 675,\n",
       " 'cum': 676,\n",
       " 'gud': 677,\n",
       " 'link': 678,\n",
       " 'card': 679,\n",
       " 'thing': 680,\n",
       " 'logo': 681,\n",
       " 'finished': 682,\n",
       " 'car': 683,\n",
       " 'arcade': 684,\n",
       " 'dis': 685,\n",
       " 'sky': 686,\n",
       " '11mths': 687,\n",
       " 'download': 688,\n",
       " 'partner': 689,\n",
       " 'watch': 690,\n",
       " 'local': 691,\n",
       " '3510i': 692,\n",
       " 'quite': 693,\n",
       " 'few': 694,\n",
       " 'reference': 695,\n",
       " 'super': 696,\n",
       " 'singles': 697,\n",
       " '62468': 698,\n",
       " 'themob': 699,\n",
       " \"won't\": 700,\n",
       " 'maybe': 701,\n",
       " 'decimal': 702,\n",
       " 'voda': 703,\n",
       " 'quoting': 704,\n",
       " 'lol': 705,\n",
       " 'goto': 706,\n",
       " 'comuk': 707,\n",
       " 'extra': 708,\n",
       " 'change': 709,\n",
       " 'though': 710,\n",
       " 'dunno': 711,\n",
       " '2optout': 712,\n",
       " 'txtauction': 713,\n",
       " 'something': 714,\n",
       " 'else': 715,\n",
       " 'tot': 716,\n",
       " 'fine': 717,\n",
       " 'unsub': 718,\n",
       " 'luck': 719,\n",
       " 'sis': 720,\n",
       " '36504': 721,\n",
       " 'al': 722,\n",
       " \"u've\": 723,\n",
       " 'invited': 724,\n",
       " 'xchat': 725,\n",
       " 'following': 726,\n",
       " 'review': 727,\n",
       " 'urawinner': 728,\n",
       " 'surprise': 729,\n",
       " 'anyone': 730,\n",
       " 'via': 731,\n",
       " 'dinner': 732,\n",
       " 'smile': 733,\n",
       " 'dad': 734,\n",
       " 'wake': 735,\n",
       " 'years': 736,\n",
       " '10am': 737,\n",
       " 'starting': 738,\n",
       " 'pound': 739,\n",
       " 'questions': 740,\n",
       " 'contacted': 741,\n",
       " 'entered': 742,\n",
       " 'unlimited': 743,\n",
       " 'cc': 744,\n",
       " '28': 745,\n",
       " 'awesome': 746,\n",
       " 'loyalty': 747,\n",
       " 'plan': 748,\n",
       " 'break': 749,\n",
       " \"uk's\": 750,\n",
       " '2nite': 751,\n",
       " 'missed': 752,\n",
       " 'frnds': 753,\n",
       " '09050090044': 754,\n",
       " 'toclaim': 755,\n",
       " 'pobox334': 756,\n",
       " 'stockport': 757,\n",
       " 'cost£1': 758,\n",
       " 'max10mins': 759,\n",
       " 'hair': 760,\n",
       " '1x150p': 761,\n",
       " 'neva': 762,\n",
       " 'while': 763,\n",
       " 'optout': 764,\n",
       " 'app': 765,\n",
       " '20': 766,\n",
       " 'linerental': 767,\n",
       " '12': 768,\n",
       " 'announcement': 769,\n",
       " 'two': 770,\n",
       " 'watching': 771,\n",
       " 'hear': 772,\n",
       " 'pix': 773,\n",
       " 'grins': 774,\n",
       " 'search': 775,\n",
       " 'till': 776,\n",
       " 'forget': 777,\n",
       " 'lei': 778,\n",
       " 'correct': 779,\n",
       " 'subscription': 780,\n",
       " 'revealed': 781,\n",
       " '82277': 782,\n",
       " '80062': 783,\n",
       " 'fantasies': 784,\n",
       " '08707509020': 785,\n",
       " 'finish': 786,\n",
       " 'dun': 787,\n",
       " 'tmr': 788,\n",
       " 'remember': 789,\n",
       " 'replying': 790,\n",
       " 'click': 791,\n",
       " 'forwarded': 792,\n",
       " 'fantasy': 793,\n",
       " 'job': 794,\n",
       " 'wish': 795,\n",
       " 'set': 796,\n",
       " 'bus': 797,\n",
       " '2day': 798,\n",
       " 'press': 799,\n",
       " 'dream': 800,\n",
       " 'beautiful': 801,\n",
       " 'ring': 802,\n",
       " 'asap': 803,\n",
       " '40gb': 804,\n",
       " 'entitled': 805,\n",
       " 'sir': 806,\n",
       " '83600': 807,\n",
       " 'fone': 808,\n",
       " 'original': 809,\n",
       " '3gbp': 810,\n",
       " 'll': 811,\n",
       " 'once': 812,\n",
       " 'movies': 813,\n",
       " 'action': 814,\n",
       " 'thank': 815,\n",
       " '300': 816,\n",
       " 'months': 817,\n",
       " '24': 818,\n",
       " 'member': 819,\n",
       " 'm263uz': 820,\n",
       " 'pa': 821,\n",
       " 'adult': 822,\n",
       " 'inviting': 823,\n",
       " 'eerie': 824,\n",
       " 'pobox36504w45wq': 825,\n",
       " 'selection': 826,\n",
       " 'sport': 827,\n",
       " 'eat': 828,\n",
       " 'sure': 829,\n",
       " '440': 830,\n",
       " 'cds': 831,\n",
       " 'com1win150ppmx3age16': 832,\n",
       " 'kate': 833,\n",
       " \"you've\": 834,\n",
       " 'king': 835,\n",
       " 'bad': 836,\n",
       " 'login': 837,\n",
       " 'gonna': 838,\n",
       " 'b4': 839,\n",
       " '£400': 840,\n",
       " 'picked': 841,\n",
       " 'actually': 842,\n",
       " 'mon': 843,\n",
       " 'w1': 844,\n",
       " \"i'd\": 845,\n",
       " 'coming': 846,\n",
       " 'vip': 847,\n",
       " 'jamster': 848,\n",
       " 'locations': 849,\n",
       " 'ec2a': 850,\n",
       " 'havent': 851,\n",
       " 'fault': 852,\n",
       " '7pm': 853,\n",
       " 'spent': 854,\n",
       " 'w45wq': 855,\n",
       " 'norm150p': 856,\n",
       " 'y': 857,\n",
       " 'msgrcvdhg': 858,\n",
       " 'cheap': 859,\n",
       " 'lot': 860,\n",
       " '8': 861,\n",
       " '85': 862,\n",
       " 'tho': 863,\n",
       " 'cup': 864,\n",
       " '87239': 865,\n",
       " 'joined': 866,\n",
       " 'flirt': 867,\n",
       " 'recd': 868,\n",
       " 'able': 869,\n",
       " 'came': 870,\n",
       " 'drop': 871,\n",
       " 'mine': 872,\n",
       " 'smth': 873,\n",
       " 'alert': 874,\n",
       " 'alright': 875,\n",
       " 'wen': 876,\n",
       " 'dat': 877,\n",
       " 'moral': 878,\n",
       " 'o': 879,\n",
       " '87131': 880,\n",
       " 'true': 881,\n",
       " 'sale': 882,\n",
       " 'refused': 883,\n",
       " \"'help'\": 884,\n",
       " '250': 885,\n",
       " 'post': 886,\n",
       " 'because': 887,\n",
       " 'hmmm': 888,\n",
       " '09061221066': 889,\n",
       " 'fromm': 890,\n",
       " 'girls': 891,\n",
       " '60p': 892,\n",
       " 'ends': 893,\n",
       " 'conditions': 894,\n",
       " 'jordan': 895,\n",
       " 'hold': 896,\n",
       " 'goin': 897,\n",
       " 'meeting': 898,\n",
       " 'heard': 899,\n",
       " 'official': 900,\n",
       " 'naughty': 901,\n",
       " 'santa': 902,\n",
       " 'things': 903,\n",
       " 'bslvyl': 904,\n",
       " 'plz': 905,\n",
       " 'team': 906,\n",
       " 'usf': 907,\n",
       " 'met': 908,\n",
       " 'darlin': 909,\n",
       " 'wif': 910,\n",
       " '08715705022': 911,\n",
       " 'most': 912,\n",
       " 'gone': 913,\n",
       " 'bahamas': 914,\n",
       " 'cust': 915,\n",
       " 'nice': 916,\n",
       " 'wont': 917,\n",
       " 'tariffs': 918,\n",
       " '86021': 919,\n",
       " 'porn': 920,\n",
       " \"haven't\": 921,\n",
       " 'nights': 922,\n",
       " 'mths': 923,\n",
       " 'movie': 924,\n",
       " 'using': 925,\n",
       " '0': 926,\n",
       " '08712405020': 927,\n",
       " '£4': 928,\n",
       " 'request': 929,\n",
       " 'polyphonic': 930,\n",
       " 'hl': 931,\n",
       " 'weekends': 932,\n",
       " 'princess': 933,\n",
       " 'close': 934,\n",
       " 'immediately': 935,\n",
       " 'jus': 936,\n",
       " 'bloomberg': 937,\n",
       " 'registered': 938,\n",
       " 'sending': 939,\n",
       " '3g': 940,\n",
       " 'videophones': 941,\n",
       " 'videochat': 942,\n",
       " 'java': 943,\n",
       " 'dload': 944,\n",
       " 'noline': 945,\n",
       " 'rentl': 946,\n",
       " 'netcollex': 947,\n",
       " 'hard': 948,\n",
       " 'making': 949,\n",
       " 'energy': 950,\n",
       " 'calls£1': 951,\n",
       " 'profit': 952,\n",
       " 'st': 953,\n",
       " 'always': 954,\n",
       " \"'\": 955,\n",
       " 'never': 956,\n",
       " 'ppm': 957,\n",
       " 'company': 958,\n",
       " 'tel': 959,\n",
       " 'spook': 960,\n",
       " 'put': 961,\n",
       " 'country': 962,\n",
       " 'ntwk': 963,\n",
       " '08001950382': 964,\n",
       " 'tenerife': 965,\n",
       " '£900': 966,\n",
       " 'email': 967,\n",
       " '8552': 968,\n",
       " 'callertune': 969,\n",
       " 'weight': 970,\n",
       " 'thats': 971,\n",
       " 'textpod': 972,\n",
       " 'happiness': 973,\n",
       " 'blue': 974,\n",
       " '1000s': 975,\n",
       " '80082': 976,\n",
       " 'lifetime': 977,\n",
       " 'greet': 978,\n",
       " 'mean': 979,\n",
       " '0808': 980,\n",
       " '145': 981,\n",
       " '4742': 982,\n",
       " '9am': 983,\n",
       " '11pm': 984,\n",
       " 'pod': 985,\n",
       " 'deliveredtomorrow': 986,\n",
       " '80488': 987,\n",
       " 'found': 988,\n",
       " 'subs': 989,\n",
       " '05': 990,\n",
       " 'project': 991,\n",
       " 'exciting': 992,\n",
       " 'xy': 993,\n",
       " '84025': 994,\n",
       " '21': 995,\n",
       " 'voicemail': 996,\n",
       " '4u': 997,\n",
       " 'title': 998,\n",
       " 'titles': 999,\n",
       " 'babes': 1000,\n",
       " ...}"
      ]
     },
     "execution_count": 42,
     "metadata": {},
     "output_type": "execute_result"
    }
   ],
   "source": [
    "word_index"
   ]
  },
  {
   "cell_type": "code",
   "execution_count": 43,
   "id": "509a570c",
   "metadata": {},
   "outputs": [
    {
     "data": {
      "text/plain": [
       "4169"
      ]
     },
     "execution_count": 43,
     "metadata": {},
     "output_type": "execute_result"
    }
   ],
   "source": [
    "total = len(word_index)\n",
    "total"
   ]
  },
  {
   "cell_type": "code",
   "execution_count": 44,
   "id": "2cde37cf",
   "metadata": {},
   "outputs": [],
   "source": [
    "train_data = tokenizer.texts_to_sequences(train_msg)\n",
    "train_padded = pad_sequences (train_data, maxlen = max_length, padding = padding_type, truncating = trunc_type)\n",
    "test_data = tokenizer.texts_to_sequences(test_msg)\n",
    "test_padded = pad_sequences(test_data, maxlen = max_length, padding = padding_type, truncating = trunc_type)"
   ]
  },
  {
   "cell_type": "code",
   "execution_count": 45,
   "id": "c36b4f8d",
   "metadata": {},
   "outputs": [
    {
     "name": "stdout",
     "output_type": "stream",
     "text": [
      "(1195, 50)\n"
     ]
    }
   ],
   "source": [
    "print(train_padded.shape)"
   ]
  },
  {
   "cell_type": "code",
   "execution_count": 46,
   "id": "fb0f2837",
   "metadata": {},
   "outputs": [
    {
     "name": "stdout",
     "output_type": "stream",
     "text": [
      "(299, 50)\n"
     ]
    }
   ],
   "source": [
    "print(test_padded.shape)"
   ]
  },
  {
   "cell_type": "code",
   "execution_count": 47,
   "id": "7cc07101",
   "metadata": {},
   "outputs": [
    {
     "data": {
      "text/plain": [
       "(50, 50)"
      ]
     },
     "execution_count": 47,
     "metadata": {},
     "output_type": "execute_result"
    }
   ],
   "source": [
    "len(train_padded[0]), len(test_padded[0])"
   ]
  },
  {
   "cell_type": "code",
   "execution_count": 48,
   "id": "a6801725",
   "metadata": {},
   "outputs": [
    {
     "name": "stdout",
     "output_type": "stream",
     "text": [
      "Model: \"sequential\"\n",
      "_________________________________________________________________\n",
      " Layer (type)                Output Shape              Param #   \n",
      "=================================================================\n",
      " embedding (Embedding)       (None, 50, 16)            8000      \n",
      "                                                                 \n",
      " global_average_pooling1d (G  (None, 16)               0         \n",
      " lobalAveragePooling1D)                                          \n",
      "                                                                 \n",
      " dense (Dense)               (None, 24)                408       \n",
      "                                                                 \n",
      " dropout (Dropout)           (None, 24)                0         \n",
      "                                                                 \n",
      " dense_1 (Dense)             (None, 1)                 25        \n",
      "                                                                 \n",
      "=================================================================\n",
      "Total params: 8,433\n",
      "Trainable params: 8,433\n",
      "Non-trainable params: 0\n",
      "_________________________________________________________________\n"
     ]
    }
   ],
   "source": [
    "model.summary()"
   ]
  },
  {
   "cell_type": "code",
   "execution_count": 49,
   "id": "0d6bb0ed",
   "metadata": {},
   "outputs": [],
   "source": [
    "model.compile(loss='binary_crossentropy',optimizer='adam' ,metrics=['accuracy'])"
   ]
  },
  {
   "cell_type": "code",
   "execution_count": 50,
   "id": "eb11dc29",
   "metadata": {},
   "outputs": [
    {
     "name": "stdout",
     "output_type": "stream",
     "text": [
      "Epoch 1/30\n",
      "38/38 - 1s - loss: 0.6834 - accuracy: 0.6435 - val_loss: 0.6722 - val_accuracy: 0.7960 - 1s/epoch - 37ms/step\n",
      "Epoch 2/30\n",
      "38/38 - 0s - loss: 0.6543 - accuracy: 0.8351 - val_loss: 0.6318 - val_accuracy: 0.8395 - 112ms/epoch - 3ms/step\n",
      "Epoch 3/30\n",
      "38/38 - 0s - loss: 0.5937 - accuracy: 0.8653 - val_loss: 0.5606 - val_accuracy: 0.8428 - 109ms/epoch - 3ms/step\n",
      "Epoch 4/30\n",
      "38/38 - 0s - loss: 0.5078 - accuracy: 0.8736 - val_loss: 0.4725 - val_accuracy: 0.8462 - 115ms/epoch - 3ms/step\n",
      "Epoch 5/30\n",
      "38/38 - 0s - loss: 0.4121 - accuracy: 0.8937 - val_loss: 0.3949 - val_accuracy: 0.8629 - 105ms/epoch - 3ms/step\n",
      "Epoch 6/30\n",
      "38/38 - 0s - loss: 0.3391 - accuracy: 0.9046 - val_loss: 0.3354 - val_accuracy: 0.8796 - 101ms/epoch - 3ms/step\n",
      "Epoch 7/30\n",
      "38/38 - 0s - loss: 0.2854 - accuracy: 0.9121 - val_loss: 0.2893 - val_accuracy: 0.8896 - 118ms/epoch - 3ms/step\n",
      "Epoch 8/30\n",
      "38/38 - 0s - loss: 0.2378 - accuracy: 0.9230 - val_loss: 0.2496 - val_accuracy: 0.8963 - 109ms/epoch - 3ms/step\n",
      "Epoch 9/30\n",
      "38/38 - 0s - loss: 0.2026 - accuracy: 0.9364 - val_loss: 0.2201 - val_accuracy: 0.9030 - 101ms/epoch - 3ms/step\n",
      "Epoch 10/30\n",
      "38/38 - 0s - loss: 0.1762 - accuracy: 0.9439 - val_loss: 0.1985 - val_accuracy: 0.9130 - 122ms/epoch - 3ms/step\n",
      "Epoch 11/30\n",
      "38/38 - 0s - loss: 0.1607 - accuracy: 0.9473 - val_loss: 0.1822 - val_accuracy: 0.9264 - 99ms/epoch - 3ms/step\n",
      "Epoch 12/30\n",
      "38/38 - 0s - loss: 0.1413 - accuracy: 0.9498 - val_loss: 0.1796 - val_accuracy: 0.9298 - 115ms/epoch - 3ms/step\n",
      "Epoch 13/30\n",
      "38/38 - 0s - loss: 0.1364 - accuracy: 0.9598 - val_loss: 0.1568 - val_accuracy: 0.9365 - 118ms/epoch - 3ms/step\n",
      "Epoch 14/30\n",
      "38/38 - 0s - loss: 0.1243 - accuracy: 0.9590 - val_loss: 0.1425 - val_accuracy: 0.9465 - 99ms/epoch - 3ms/step\n",
      "Epoch 15/30\n",
      "38/38 - 0s - loss: 0.1159 - accuracy: 0.9615 - val_loss: 0.1428 - val_accuracy: 0.9398 - 115ms/epoch - 3ms/step\n",
      "Epoch 16/30\n",
      "38/38 - 0s - loss: 0.1054 - accuracy: 0.9682 - val_loss: 0.1353 - val_accuracy: 0.9431 - 101ms/epoch - 3ms/step\n",
      "Epoch 17/30\n",
      "38/38 - 0s - loss: 0.0991 - accuracy: 0.9632 - val_loss: 0.1383 - val_accuracy: 0.9398 - 114ms/epoch - 3ms/step\n",
      "Epoch 18/30\n",
      "38/38 - 0s - loss: 0.0978 - accuracy: 0.9682 - val_loss: 0.1290 - val_accuracy: 0.9431 - 150ms/epoch - 4ms/step\n",
      "Epoch 19/30\n",
      "38/38 - 0s - loss: 0.0943 - accuracy: 0.9724 - val_loss: 0.1236 - val_accuracy: 0.9465 - 116ms/epoch - 3ms/step\n",
      "Epoch 20/30\n",
      "38/38 - 0s - loss: 0.0876 - accuracy: 0.9732 - val_loss: 0.1281 - val_accuracy: 0.9431 - 126ms/epoch - 3ms/step\n",
      "Epoch 21/30\n",
      "38/38 - 0s - loss: 0.0818 - accuracy: 0.9741 - val_loss: 0.1291 - val_accuracy: 0.9431 - 104ms/epoch - 3ms/step\n",
      "Epoch 22/30\n",
      "38/38 - 0s - loss: 0.0821 - accuracy: 0.9741 - val_loss: 0.1242 - val_accuracy: 0.9465 - 105ms/epoch - 3ms/step\n"
     ]
    }
   ],
   "source": [
    "num_epochs = 30\n",
    "early_stop = EarlyStopping(monitor='val_loss', patience=3)\n",
    "history = model.fit(train_padded, train_labels, epochs=num_epochs, validation_data=(test_padded, test_labels),callbacks =[early_stop], verbose=2)"
   ]
  },
  {
   "cell_type": "code",
   "execution_count": 51,
   "id": "c2e516d4",
   "metadata": {},
   "outputs": [
    {
     "name": "stdout",
     "output_type": "stream",
     "text": [
      "10/10 [==============================] - 0s 4ms/step - loss: 0.1242 - accuracy: 0.9465\n"
     ]
    },
    {
     "data": {
      "text/plain": [
       "[0.12415491044521332, 0.9464883208274841]"
      ]
     },
     "execution_count": 51,
     "metadata": {},
     "output_type": "execute_result"
    }
   ],
   "source": [
    "model.evaluate(test_padded, test_labels)"
   ]
  },
  {
   "cell_type": "code",
   "execution_count": 56,
   "id": "13dc5fa5",
   "metadata": {},
   "outputs": [],
   "source": [
    "metrics = pd.DataFrame(history.history)\n",
    "metrics.rename(columns = {'loss': 'TrainingLoss', \n",
    "                          'accuracy': 'TrainingAccuracy', \n",
    "                          'val_loss': 'ValidationLoss', \n",
    "                          'val_accuracy': 'ValidationAccuracy'}, inplace = True)"
   ]
  },
  {
   "cell_type": "code",
   "execution_count": 57,
   "id": "405a6311",
   "metadata": {},
   "outputs": [],
   "source": [
    "def graph(v1, v2, string):\n",
    "    metrics[[v1,v2]].plot()\n",
    "    plt.title('Training and Validation ' + string)\n",
    "    plt.xlabel('Number of epochs')\n",
    "    plt.ylabel(string)\n",
    "    plt.legend([v1,v2])"
   ]
  },
  {
   "cell_type": "code",
   "execution_count": 58,
   "id": "5121bd7a",
   "metadata": {},
   "outputs": [
    {
     "data": {
      "image/png": "[encoded data removed]",
      "text/plain": [
       "<Figure size 432x288 with 1 Axes>"
      ]
     },
     "metadata": {
      "needs_background": "light"
     },
     "output_type": "display_data"
    }
   ],
   "source": [
    "graph('TrainingLoss', 'ValidationLoss', 'loss')"
   ]
  },
  {
   "cell_type": "code",
   "execution_count": 59,
   "id": "7856794d",
   "metadata": {},
   "outputs": [
    {
     "data": {
      "image/png": "[encoded data removed]",
      "text/plain": [
       "<Figure size 432x288 with 1 Axes>"
      ]
     },
     "metadata": {
      "needs_background": "light"
     },
     "output_type": "display_data"
    }
   ],
   "source": [
    "graph('TrainingAccuracy', 'ValidationAccuracy', 'accuracy')"
   ]
  },
  {
   "cell_type": "code",
   "execution_count": 66,
   "id": "2e0c9062",
   "metadata": {},
   "outputs": [],
   "source": [
    "n_bilstm = 20\n",
    "drop_bilstm = 0.2"
   ]
  },
  {
   "cell_type": "code",
   "execution_count": 67,
   "id": "7b669bf4",
   "metadata": {},
   "outputs": [],
   "source": [
    "model2 = Sequential() #Bidirectional LSTM\n",
    "model2.add(Embedding(vocabsize, embeding_dim, input_length=max_length))\n",
    "model2.add(Bidirectional(LSTM(n_bilstm, dropout=drop_bilstm, return_sequences=True)))\n",
    "model2.add(Dense(1, activation='sigmoid'))"
   ]
  },
  {
   "cell_type": "code",
   "execution_count": 68,
   "id": "eea7d09f",
   "metadata": {},
   "outputs": [],
   "source": [
    "model2.compile(loss = 'binary_crossentropy', optimizer = 'adam', metrics=['accuracy'])"
   ]
  },
  {
   "cell_type": "code",
   "execution_count": 69,
   "id": "9f962265",
   "metadata": {},
   "outputs": [
    {
     "name": "stdout",
     "output_type": "stream",
     "text": [
      "Epoch 1/30\n"
     ]
    },
    {
     "ename": "ValueError",
     "evalue": "in user code:\n\n    File \"/Users/rohit/opt/anaconda3/lib/python3.9/site-packages/keras/engine/training.py\", line 1021, in train_function  *\n        return step_function(self, iterator)\n    File \"/Users/rohit/opt/anaconda3/lib/python3.9/site-packages/keras/engine/training.py\", line 1010, in step_function  **\n        outputs = model.distribute_strategy.run(run_step, args=(data,))\n    File \"/Users/rohit/opt/anaconda3/lib/python3.9/site-packages/keras/engine/training.py\", line 1000, in run_step  **\n        outputs = model.train_step(data)\n    File \"/Users/rohit/opt/anaconda3/lib/python3.9/site-packages/keras/engine/training.py\", line 860, in train_step\n        loss = self.compute_loss(x, y, y_pred, sample_weight)\n    File \"/Users/rohit/opt/anaconda3/lib/python3.9/site-packages/keras/engine/training.py\", line 918, in compute_loss\n        return self.compiled_loss(\n    File \"/Users/rohit/opt/anaconda3/lib/python3.9/site-packages/keras/engine/compile_utils.py\", line 201, in __call__\n        loss_value = loss_obj(y_t, y_p, sample_weight=sw)\n    File \"/Users/rohit/opt/anaconda3/lib/python3.9/site-packages/keras/losses.py\", line 141, in __call__\n        losses = call_fn(y_true, y_pred)\n    File \"/Users/rohit/opt/anaconda3/lib/python3.9/site-packages/keras/losses.py\", line 245, in call  **\n        return ag_fn(y_true, y_pred, **self._fn_kwargs)\n    File \"/Users/rohit/opt/anaconda3/lib/python3.9/site-packages/keras/losses.py\", line 1932, in binary_crossentropy\n        backend.binary_crossentropy(y_true, y_pred, from_logits=from_logits),\n    File \"/Users/rohit/opt/anaconda3/lib/python3.9/site-packages/keras/backend.py\", line 5247, in binary_crossentropy\n        return tf.nn.sigmoid_cross_entropy_with_logits(labels=target, logits=output)\n\n    ValueError: `logits` and `labels` must have the same shape, received ((None, 50, 1) vs (None,)).\n",
     "output_type": "error",
     "traceback": [
      "\u001b[0;31m---------------------------------------------------------------------------\u001b[0m",
      "\u001b[0;31mValueError\u001b[0m                                Traceback (most recent call last)",
      "\u001b[0;32m/var/folders/2b/95j8bs_d1d7_774w69zxnls40000gn/T/ipykernel_62884/4085697625.py\u001b[0m in \u001b[0;36m<module>\u001b[0;34m\u001b[0m\n\u001b[1;32m      1\u001b[0m \u001b[0mnum_epochs\u001b[0m \u001b[0;34m=\u001b[0m \u001b[0;36m30\u001b[0m\u001b[0;34m\u001b[0m\u001b[0;34m\u001b[0m\u001b[0m\n\u001b[1;32m      2\u001b[0m \u001b[0mearly_stop\u001b[0m \u001b[0;34m=\u001b[0m \u001b[0mEarlyStopping\u001b[0m\u001b[0;34m(\u001b[0m\u001b[0mmonitor\u001b[0m\u001b[0;34m=\u001b[0m\u001b[0;34m'val_loss'\u001b[0m\u001b[0;34m,\u001b[0m \u001b[0mpatience\u001b[0m\u001b[0;34m=\u001b[0m\u001b[0;36m2\u001b[0m\u001b[0;34m)\u001b[0m\u001b[0;34m\u001b[0m\u001b[0;34m\u001b[0m\u001b[0m\n\u001b[0;32m----> 3\u001b[0;31m history = model2.fit(train_padded, train_labels, epochs = num_epochs, \n\u001b[0m\u001b[1;32m      4\u001b[0m                     validation_data=(test_padded, test_labels),callbacks =[early_stop], verbose=2)\n",
      "\u001b[0;32m~/opt/anaconda3/lib/python3.9/site-packages/keras/utils/traceback_utils.py\u001b[0m in \u001b[0;36merror_handler\u001b[0;34m(*args, **kwargs)\u001b[0m\n\u001b[1;32m     65\u001b[0m     \u001b[0;32mexcept\u001b[0m \u001b[0mException\u001b[0m \u001b[0;32mas\u001b[0m \u001b[0me\u001b[0m\u001b[0;34m:\u001b[0m  \u001b[0;31m# pylint: disable=broad-except\u001b[0m\u001b[0;34m\u001b[0m\u001b[0;34m\u001b[0m\u001b[0m\n\u001b[1;32m     66\u001b[0m       \u001b[0mfiltered_tb\u001b[0m \u001b[0;34m=\u001b[0m \u001b[0m_process_traceback_frames\u001b[0m\u001b[0;34m(\u001b[0m\u001b[0me\u001b[0m\u001b[0;34m.\u001b[0m\u001b[0m__traceback__\u001b[0m\u001b[0;34m)\u001b[0m\u001b[0;34m\u001b[0m\u001b[0;34m\u001b[0m\u001b[0m\n\u001b[0;32m---> 67\u001b[0;31m       \u001b[0;32mraise\u001b[0m \u001b[0me\u001b[0m\u001b[0;34m.\u001b[0m\u001b[0mwith_traceback\u001b[0m\u001b[0;34m(\u001b[0m\u001b[0mfiltered_tb\u001b[0m\u001b[0;34m)\u001b[0m \u001b[0;32mfrom\u001b[0m \u001b[0;32mNone\u001b[0m\u001b[0;34m\u001b[0m\u001b[0;34m\u001b[0m\u001b[0m\n\u001b[0m\u001b[1;32m     68\u001b[0m     \u001b[0;32mfinally\u001b[0m\u001b[0;34m:\u001b[0m\u001b[0;34m\u001b[0m\u001b[0;34m\u001b[0m\u001b[0m\n\u001b[1;32m     69\u001b[0m       \u001b[0;32mdel\u001b[0m \u001b[0mfiltered_tb\u001b[0m\u001b[0;34m\u001b[0m\u001b[0;34m\u001b[0m\u001b[0m\n",
      "\u001b[0;32m~/opt/anaconda3/lib/python3.9/site-packages/tensorflow/python/framework/func_graph.py\u001b[0m in \u001b[0;36mautograph_handler\u001b[0;34m(*args, **kwargs)\u001b[0m\n\u001b[1;32m   1145\u001b[0m           \u001b[0;32mexcept\u001b[0m \u001b[0mException\u001b[0m \u001b[0;32mas\u001b[0m \u001b[0me\u001b[0m\u001b[0;34m:\u001b[0m  \u001b[0;31m# pylint:disable=broad-except\u001b[0m\u001b[0;34m\u001b[0m\u001b[0;34m\u001b[0m\u001b[0m\n\u001b[1;32m   1146\u001b[0m             \u001b[0;32mif\u001b[0m \u001b[0mhasattr\u001b[0m\u001b[0;34m(\u001b[0m\u001b[0me\u001b[0m\u001b[0;34m,\u001b[0m \u001b[0;34m\"ag_error_metadata\"\u001b[0m\u001b[0;34m)\u001b[0m\u001b[0;34m:\u001b[0m\u001b[0;34m\u001b[0m\u001b[0;34m\u001b[0m\u001b[0m\n\u001b[0;32m-> 1147\u001b[0;31m               \u001b[0;32mraise\u001b[0m \u001b[0me\u001b[0m\u001b[0;34m.\u001b[0m\u001b[0mag_error_metadata\u001b[0m\u001b[0;34m.\u001b[0m\u001b[0mto_exception\u001b[0m\u001b[0;34m(\u001b[0m\u001b[0me\u001b[0m\u001b[0;34m)\u001b[0m\u001b[0;34m\u001b[0m\u001b[0;34m\u001b[0m\u001b[0m\n\u001b[0m\u001b[1;32m   1148\u001b[0m             \u001b[0;32melse\u001b[0m\u001b[0;34m:\u001b[0m\u001b[0;34m\u001b[0m\u001b[0;34m\u001b[0m\u001b[0m\n\u001b[1;32m   1149\u001b[0m               \u001b[0;32mraise\u001b[0m\u001b[0;34m\u001b[0m\u001b[0;34m\u001b[0m\u001b[0m\n",
      "\u001b[0;31mValueError\u001b[0m: in user code:\n\n    File \"/Users/rohit/opt/anaconda3/lib/python3.9/site-packages/keras/engine/training.py\", line 1021, in train_function  *\n        return step_function(self, iterator)\n    File \"/Users/rohit/opt/anaconda3/lib/python3.9/site-packages/keras/engine/training.py\", line 1010, in step_function  **\n        outputs = model.distribute_strategy.run(run_step, args=(data,))\n    File \"/Users/rohit/opt/anaconda3/lib/python3.9/site-packages/keras/engine/training.py\", line 1000, in run_step  **\n        outputs = model.train_step(data)\n    File \"/Users/rohit/opt/anaconda3/lib/python3.9/site-packages/keras/engine/training.py\", line 860, in train_step\n        loss = self.compute_loss(x, y, y_pred, sample_weight)\n    File \"/Users/rohit/opt/anaconda3/lib/python3.9/site-packages/keras/engine/training.py\", line 918, in compute_loss\n        return self.compiled_loss(\n    File \"/Users/rohit/opt/anaconda3/lib/python3.9/site-packages/keras/engine/compile_utils.py\", line 201, in __call__\n        loss_value = loss_obj(y_t, y_p, sample_weight=sw)\n    File \"/Users/rohit/opt/anaconda3/lib/python3.9/site-packages/keras/losses.py\", line 141, in __call__\n        losses = call_fn(y_true, y_pred)\n    File \"/Users/rohit/opt/anaconda3/lib/python3.9/site-packages/keras/losses.py\", line 245, in call  **\n        return ag_fn(y_true, y_pred, **self._fn_kwargs)\n    File \"/Users/rohit/opt/anaconda3/lib/python3.9/site-packages/keras/losses.py\", line 1932, in binary_crossentropy\n        backend.binary_crossentropy(y_true, y_pred, from_logits=from_logits),\n    File \"/Users/rohit/opt/anaconda3/lib/python3.9/site-packages/keras/backend.py\", line 5247, in binary_crossentropy\n        return tf.nn.sigmoid_cross_entropy_with_logits(labels=target, logits=output)\n\n    ValueError: `logits` and `labels` must have the same shape, received ((None, 50, 1) vs (None,)).\n"
     ]
    }
   ],
   "source": [
    "num_epochs = 30\n",
    "early_stop = EarlyStopping(monitor='val_loss', patience=2)\n",
    "history = model2.fit(train_padded, train_labels, epochs = num_epochs, \n",
    "                    validation_data=(test_padded, test_labels),callbacks =[early_stop], verbose=2)"
   ]
  },
  {
   "cell_type": "code",
   "execution_count": 71,
   "id": "ad7474fb",
   "metadata": {},
   "outputs": [],
   "source": [
    "n_lstm = 20\n",
    "drop_lstm = 0.2"
   ]
  },
  {
   "cell_type": "code",
   "execution_count": 72,
   "id": "7051c762",
   "metadata": {},
   "outputs": [],
   "source": [
    "model_lstm = Sequential()\n",
    "model_lstm.add(Embedding(vocabsize, embeding_dim, input_length=max_length))\n",
    "model_lstm.add(LSTM(n_lstm, dropout=drop_lstm, return_sequences=True))\n",
    "model_lstm.add(LSTM(n_lstm, dropout=drop_lstm, return_sequences=True))\n",
    "model_lstm.add(Dense(1, activation='sigmoid'))"
   ]
  },
  {
   "cell_type": "code",
   "execution_count": 73,
   "id": "33b25b47",
   "metadata": {},
   "outputs": [],
   "source": [
    "model_lstm.compile(loss = 'binary_crossentropy', optimizer = 'adam', metrics=['accuracy'])"
   ]
  },
  {
   "cell_type": "code",
   "execution_count": 75,
   "id": "f2362e19",
   "metadata": {},
   "outputs": [
    {
     "name": "stdout",
     "output_type": "stream",
     "text": [
      "Epoch 1/30\n"
     ]
    },
    {
     "ename": "ValueError",
     "evalue": "in user code:\n\n    File \"/Users/rohit/opt/anaconda3/lib/python3.9/site-packages/keras/engine/training.py\", line 1021, in train_function  *\n        return step_function(self, iterator)\n    File \"/Users/rohit/opt/anaconda3/lib/python3.9/site-packages/keras/engine/training.py\", line 1010, in step_function  **\n        outputs = model.distribute_strategy.run(run_step, args=(data,))\n    File \"/Users/rohit/opt/anaconda3/lib/python3.9/site-packages/keras/engine/training.py\", line 1000, in run_step  **\n        outputs = model.train_step(data)\n    File \"/Users/rohit/opt/anaconda3/lib/python3.9/site-packages/keras/engine/training.py\", line 860, in train_step\n        loss = self.compute_loss(x, y, y_pred, sample_weight)\n    File \"/Users/rohit/opt/anaconda3/lib/python3.9/site-packages/keras/engine/training.py\", line 918, in compute_loss\n        return self.compiled_loss(\n    File \"/Users/rohit/opt/anaconda3/lib/python3.9/site-packages/keras/engine/compile_utils.py\", line 201, in __call__\n        loss_value = loss_obj(y_t, y_p, sample_weight=sw)\n    File \"/Users/rohit/opt/anaconda3/lib/python3.9/site-packages/keras/losses.py\", line 141, in __call__\n        losses = call_fn(y_true, y_pred)\n    File \"/Users/rohit/opt/anaconda3/lib/python3.9/site-packages/keras/losses.py\", line 245, in call  **\n        return ag_fn(y_true, y_pred, **self._fn_kwargs)\n    File \"/Users/rohit/opt/anaconda3/lib/python3.9/site-packages/keras/losses.py\", line 1932, in binary_crossentropy\n        backend.binary_crossentropy(y_true, y_pred, from_logits=from_logits),\n    File \"/Users/rohit/opt/anaconda3/lib/python3.9/site-packages/keras/backend.py\", line 5247, in binary_crossentropy\n        return tf.nn.sigmoid_cross_entropy_with_logits(labels=target, logits=output)\n\n    ValueError: `logits` and `labels` must have the same shape, received ((None, 50, 1) vs (None,)).\n",
     "output_type": "error",
     "traceback": [
      "\u001b[0;31m---------------------------------------------------------------------------\u001b[0m",
      "\u001b[0;31mValueError\u001b[0m                                Traceback (most recent call last)",
      "\u001b[0;32m/var/folders/2b/95j8bs_d1d7_774w69zxnls40000gn/T/ipykernel_62884/3064166751.py\u001b[0m in \u001b[0;36m<module>\u001b[0;34m\u001b[0m\n\u001b[1;32m      1\u001b[0m \u001b[0mnum_epochs\u001b[0m \u001b[0;34m=\u001b[0m \u001b[0;36m30\u001b[0m\u001b[0;34m\u001b[0m\u001b[0;34m\u001b[0m\u001b[0m\n\u001b[1;32m      2\u001b[0m \u001b[0mearly_stop\u001b[0m \u001b[0;34m=\u001b[0m \u001b[0mEarlyStopping\u001b[0m\u001b[0;34m(\u001b[0m\u001b[0mmonitor\u001b[0m\u001b[0;34m=\u001b[0m\u001b[0;34m'val_loss'\u001b[0m\u001b[0;34m,\u001b[0m \u001b[0mpatience\u001b[0m\u001b[0;34m=\u001b[0m\u001b[0;36m2\u001b[0m\u001b[0;34m)\u001b[0m\u001b[0;34m\u001b[0m\u001b[0;34m\u001b[0m\u001b[0m\n\u001b[0;32m----> 3\u001b[0;31m \u001b[0mhistory\u001b[0m \u001b[0;34m=\u001b[0m \u001b[0mmodel_lstm\u001b[0m\u001b[0;34m.\u001b[0m\u001b[0mfit\u001b[0m\u001b[0;34m(\u001b[0m\u001b[0mtrain_padded\u001b[0m\u001b[0;34m,\u001b[0m \u001b[0mtrain_labels\u001b[0m\u001b[0;34m,\u001b[0m \u001b[0mepochs\u001b[0m\u001b[0;34m=\u001b[0m\u001b[0mnum_epochs\u001b[0m\u001b[0;34m,\u001b[0m \u001b[0mvalidation_data\u001b[0m\u001b[0;34m=\u001b[0m\u001b[0;34m(\u001b[0m\u001b[0mtest_padded\u001b[0m\u001b[0;34m,\u001b[0m \u001b[0mtest_labels\u001b[0m\u001b[0;34m)\u001b[0m\u001b[0;34m,\u001b[0m\u001b[0mcallbacks\u001b[0m \u001b[0;34m=\u001b[0m\u001b[0;34m[\u001b[0m\u001b[0mearly_stop\u001b[0m\u001b[0;34m]\u001b[0m\u001b[0;34m,\u001b[0m \u001b[0mverbose\u001b[0m\u001b[0;34m=\u001b[0m\u001b[0;36m2\u001b[0m\u001b[0;34m)\u001b[0m\u001b[0;34m\u001b[0m\u001b[0;34m\u001b[0m\u001b[0m\n\u001b[0m",
      "\u001b[0;32m~/opt/anaconda3/lib/python3.9/site-packages/keras/utils/traceback_utils.py\u001b[0m in \u001b[0;36merror_handler\u001b[0;34m(*args, **kwargs)\u001b[0m\n\u001b[1;32m     65\u001b[0m     \u001b[0;32mexcept\u001b[0m \u001b[0mException\u001b[0m \u001b[0;32mas\u001b[0m \u001b[0me\u001b[0m\u001b[0;34m:\u001b[0m  \u001b[0;31m# pylint: disable=broad-except\u001b[0m\u001b[0;34m\u001b[0m\u001b[0;34m\u001b[0m\u001b[0m\n\u001b[1;32m     66\u001b[0m       \u001b[0mfiltered_tb\u001b[0m \u001b[0;34m=\u001b[0m \u001b[0m_process_traceback_frames\u001b[0m\u001b[0;34m(\u001b[0m\u001b[0me\u001b[0m\u001b[0;34m.\u001b[0m\u001b[0m__traceback__\u001b[0m\u001b[0;34m)\u001b[0m\u001b[0;34m\u001b[0m\u001b[0;34m\u001b[0m\u001b[0m\n\u001b[0;32m---> 67\u001b[0;31m       \u001b[0;32mraise\u001b[0m \u001b[0me\u001b[0m\u001b[0;34m.\u001b[0m\u001b[0mwith_traceback\u001b[0m\u001b[0;34m(\u001b[0m\u001b[0mfiltered_tb\u001b[0m\u001b[0;34m)\u001b[0m \u001b[0;32mfrom\u001b[0m \u001b[0;32mNone\u001b[0m\u001b[0;34m\u001b[0m\u001b[0;34m\u001b[0m\u001b[0m\n\u001b[0m\u001b[1;32m     68\u001b[0m     \u001b[0;32mfinally\u001b[0m\u001b[0;34m:\u001b[0m\u001b[0;34m\u001b[0m\u001b[0;34m\u001b[0m\u001b[0m\n\u001b[1;32m     69\u001b[0m       \u001b[0;32mdel\u001b[0m \u001b[0mfiltered_tb\u001b[0m\u001b[0;34m\u001b[0m\u001b[0;34m\u001b[0m\u001b[0m\n",
      "\u001b[0;32m~/opt/anaconda3/lib/python3.9/site-packages/tensorflow/python/framework/func_graph.py\u001b[0m in \u001b[0;36mautograph_handler\u001b[0;34m(*args, **kwargs)\u001b[0m\n\u001b[1;32m   1145\u001b[0m           \u001b[0;32mexcept\u001b[0m \u001b[0mException\u001b[0m \u001b[0;32mas\u001b[0m \u001b[0me\u001b[0m\u001b[0;34m:\u001b[0m  \u001b[0;31m# pylint:disable=broad-except\u001b[0m\u001b[0;34m\u001b[0m\u001b[0;34m\u001b[0m\u001b[0m\n\u001b[1;32m   1146\u001b[0m             \u001b[0;32mif\u001b[0m \u001b[0mhasattr\u001b[0m\u001b[0;34m(\u001b[0m\u001b[0me\u001b[0m\u001b[0;34m,\u001b[0m \u001b[0;34m\"ag_error_metadata\"\u001b[0m\u001b[0;34m)\u001b[0m\u001b[0;34m:\u001b[0m\u001b[0;34m\u001b[0m\u001b[0;34m\u001b[0m\u001b[0m\n\u001b[0;32m-> 1147\u001b[0;31m               \u001b[0;32mraise\u001b[0m \u001b[0me\u001b[0m\u001b[0;34m.\u001b[0m\u001b[0mag_error_metadata\u001b[0m\u001b[0;34m.\u001b[0m\u001b[0mto_exception\u001b[0m\u001b[0;34m(\u001b[0m\u001b[0me\u001b[0m\u001b[0;34m)\u001b[0m\u001b[0;34m\u001b[0m\u001b[0;34m\u001b[0m\u001b[0m\n\u001b[0m\u001b[1;32m   1148\u001b[0m             \u001b[0;32melse\u001b[0m\u001b[0;34m:\u001b[0m\u001b[0;34m\u001b[0m\u001b[0;34m\u001b[0m\u001b[0m\n\u001b[1;32m   1149\u001b[0m               \u001b[0;32mraise\u001b[0m\u001b[0;34m\u001b[0m\u001b[0;34m\u001b[0m\u001b[0m\n",
      "\u001b[0;31mValueError\u001b[0m: in user code:\n\n    File \"/Users/rohit/opt/anaconda3/lib/python3.9/site-packages/keras/engine/training.py\", line 1021, in train_function  *\n        return step_function(self, iterator)\n    File \"/Users/rohit/opt/anaconda3/lib/python3.9/site-packages/keras/engine/training.py\", line 1010, in step_function  **\n        outputs = model.distribute_strategy.run(run_step, args=(data,))\n    File \"/Users/rohit/opt/anaconda3/lib/python3.9/site-packages/keras/engine/training.py\", line 1000, in run_step  **\n        outputs = model.train_step(data)\n    File \"/Users/rohit/opt/anaconda3/lib/python3.9/site-packages/keras/engine/training.py\", line 860, in train_step\n        loss = self.compute_loss(x, y, y_pred, sample_weight)\n    File \"/Users/rohit/opt/anaconda3/lib/python3.9/site-packages/keras/engine/training.py\", line 918, in compute_loss\n        return self.compiled_loss(\n    File \"/Users/rohit/opt/anaconda3/lib/python3.9/site-packages/keras/engine/compile_utils.py\", line 201, in __call__\n        loss_value = loss_obj(y_t, y_p, sample_weight=sw)\n    File \"/Users/rohit/opt/anaconda3/lib/python3.9/site-packages/keras/losses.py\", line 141, in __call__\n        losses = call_fn(y_true, y_pred)\n    File \"/Users/rohit/opt/anaconda3/lib/python3.9/site-packages/keras/losses.py\", line 245, in call  **\n        return ag_fn(y_true, y_pred, **self._fn_kwargs)\n    File \"/Users/rohit/opt/anaconda3/lib/python3.9/site-packages/keras/losses.py\", line 1932, in binary_crossentropy\n        backend.binary_crossentropy(y_true, y_pred, from_logits=from_logits),\n    File \"/Users/rohit/opt/anaconda3/lib/python3.9/site-packages/keras/backend.py\", line 5247, in binary_crossentropy\n        return tf.nn.sigmoid_cross_entropy_with_logits(labels=target, logits=output)\n\n    ValueError: `logits` and `labels` must have the same shape, received ((None, 50, 1) vs (None,)).\n"
     ]
    }
   ],
   "source": [
    "num_epochs = 30\n",
    "early_stop = EarlyStopping(monitor='val_loss', patience=2)\n",
    "history = model_lstm.fit(train_padded, train_labels, epochs=num_epochs, validation_data=(test_padded, test_labels),callbacks =[early_stop], verbose=2)"
   ]
  },
  {
   "cell_type": "code",
   "execution_count": 76,
   "id": "ab95dfad",
   "metadata": {},
   "outputs": [
    {
     "name": "stdout",
     "output_type": "stream",
     "text": [
      "10/10 [==============================] - 0s 4ms/step - loss: 0.1242 - accuracy: 0.9465\n"
     ]
    },
    {
     "data": {
      "text/plain": [
       "[0.12415491044521332, 0.9464883208274841]"
      ]
     },
     "execution_count": 76,
     "metadata": {},
     "output_type": "execute_result"
    }
   ],
   "source": [
    "model.evaluate(test_padded, test_labels)"
   ]
  },
  {
   "cell_type": "code",
   "execution_count": 77,
   "id": "f4e0a325",
   "metadata": {},
   "outputs": [],
   "source": [
    "predict_msg = [\"I'm gonna be home soon and i don't want to talk about this stuff anymore tonight, k? I've cried enough today.\", \n",
    "               \"SIX chances to win CASH! From 100 to 20,000 pounds txt> CSH11 and send to 87575. Cost 150p/day, 6days, 16+ TsandCs apply Reply HL 4 info\",\n",
    "              \"URGENT! You have won a 1 week FREE membership in our £100,000 Prize Jackpot! Txt the word: CLAIM to No: 81010 T&C www.dbuk.net LCCLTD POBOX 4403LDNW1A7RW18\"]"
   ]
  },
  {
   "cell_type": "code",
   "execution_count": 79,
   "id": "aa9cf963",
   "metadata": {},
   "outputs": [
    {
     "data": {
      "text/plain": [
       "array([[0.0202387 ],\n",
       "       [0.99957114],\n",
       "       [0.99973977]], dtype=float32)"
      ]
     },
     "execution_count": 79,
     "metadata": {},
     "output_type": "execute_result"
    }
   ],
   "source": [
    "def spam_prediction(predict_msg):\n",
    "    newseq = tokenizer.texts_to_sequences(predict_msg)\n",
    "    padded_msg = pad_sequences(newseq, maxlen = max_length, padding = padding_type, truncating = trunc_type)\n",
    "    return (model.predict(padded_msg))\n",
    "\n",
    "spam_prediction(predict_msg)"
   ]
  },
  {
   "cell_type": "code",
   "execution_count": 80,
   "id": "0ede557e",
   "metadata": {},
   "outputs": [],
   "source": [
    "predict_msg = [\"Your SBI account will be blocked today, click on this link to update your PAN card\",\n",
    "          \"What's up?\",\n",
    "              \"I'll be there soon\"]"
   ]
  },
  {
   "cell_type": "code",
   "execution_count": 81,
   "id": "5480bee6",
   "metadata": {},
   "outputs": [
    {
     "data": {
      "text/plain": [
       "array([[0.78662956],\n",
       "       [0.02624333],\n",
       "       [0.00838122]], dtype=float32)"
      ]
     },
     "execution_count": 81,
     "metadata": {},
     "output_type": "execute_result"
    }
   ],
   "source": [
    "spam_prediction(predict_msg)"
   ]
  },
  {
   "cell_type": "code",
   "execution_count": null,
   "id": "ffdf244e",
   "metadata": {},
   "outputs": [],
   "source": []
  }
 ],
 "metadata": {
  "kernelspec": {
   "display_name": "Python 3 (ipykernel)",
   "language": "python",
   "name": "python3"
  },
  "language_info": {
   "codemirror_mode": {
    "name": "ipython",
    "version": 3
   },
   "file_extension": ".py",
   "mimetype": "text/x-python",
   "name": "python",
   "nbconvert_exporter": "python",
   "pygments_lexer": "ipython3",
   "version": "3.9.7"
  }
 },
 "nbformat": 4,
 "nbformat_minor": 5
}
